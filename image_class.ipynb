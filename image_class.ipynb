{
 "cells": [
  {
   "cell_type": "code",
   "execution_count": 1,
   "metadata": {},
   "outputs": [],
   "source": [
    "import pandas as pd\n",
    "import numpy as np\n",
    "import keras\n",
    "from keras.preprocessing.image import ImageDataGenerator, array_to_img, img_to_array, load_img"
   ]
  },
  {
   "cell_type": "code",
   "execution_count": 62,
   "metadata": {},
   "outputs": [],
   "source": [
    "from keras import models \n",
    "from keras import layers \n",
    "import matplotlib.pyplot as plt\n",
    "%matplotlib inline\n",
    "import os"
   ]
  },
  {
   "cell_type": "markdown",
   "metadata": {},
   "source": [
    "## Data"
   ]
  },
  {
   "cell_type": "code",
   "execution_count": 105,
   "metadata": {},
   "outputs": [],
   "source": [
    "train_data_dir = 'chest_xray/train'\n",
    "val_data_dir = 'chest_xray/val'\n",
    "test_data_dir = 'chest_xray/test'"
   ]
  },
  {
   "cell_type": "code",
   "execution_count": 106,
   "metadata": {
    "scrolled": true
   },
   "outputs": [
    {
     "name": "stdout",
     "output_type": "stream",
     "text": [
      "Found 5216 images belonging to 2 classes.\n",
      "Found 624 images belonging to 2 classes.\n",
      "Found 16 images belonging to 2 classes.\n"
     ]
    }
   ],
   "source": [
    "train_generator = ImageDataGenerator().flow_from_directory(train_data_dir, target_size=(64,64), batch_size=5216)\n",
    "test_generator = ImageDataGenerator().flow_from_directory(test_data_dir, target_size=(64,64), batch_size=624)\n",
    "val_generator = ImageDataGenerator().flow_from_directory(val_data_dir, target_size=(64,64), batch_size=16)"
   ]
  },
  {
   "cell_type": "code",
   "execution_count": 66,
   "metadata": {},
   "outputs": [
    {
     "name": "stdout",
     "output_type": "stream",
     "text": [
      "train: Counter({1: 3875, 0: 1341})\n",
      "test: Counter({1: 390, 0: 234})\n"
     ]
    }
   ],
   "source": [
    "# check for class imbalance \n",
    "from collections import Counter\n",
    "train_counter = Counter(train_generator.classes)\n",
    "print('train:', train_counter)\n",
    "test_counter = Counter(test_generator.classes)\n",
    "print('test:', test_counter)"
   ]
  },
  {
   "cell_type": "code",
   "execution_count": 67,
   "metadata": {},
   "outputs": [],
   "source": [
    "train_images, train_labels = next(train_generator)\n",
    "test_images, test_labels = next(test_generator)"
   ]
  },
  {
   "cell_type": "code",
   "execution_count": 107,
   "metadata": {},
   "outputs": [],
   "source": [
    "val_images, val_labels = next(val_generator)"
   ]
  },
  {
   "cell_type": "code",
   "execution_count": 76,
   "metadata": {},
   "outputs": [
    {
     "data": {
      "image/png": "[encoded data removed]",
      "text/plain": [
       "<PIL.Image.Image image mode=RGB size=64x64 at 0x7FB92FAF4BE0>"
      ]
     },
     "execution_count": 76,
     "metadata": {},
     "output_type": "execute_result"
    }
   ],
   "source": [
    "array_to_img(train_images[1])"
   ]
  },
  {
   "cell_type": "code",
   "execution_count": 77,
   "metadata": {},
   "outputs": [
    {
     "data": {
      "text/plain": [
       "array([0., 1.], dtype=float32)"
      ]
     },
     "execution_count": 77,
     "metadata": {},
     "output_type": "execute_result"
    }
   ],
   "source": [
    "train_labels[1]"
   ]
  },
  {
   "cell_type": "markdown",
   "metadata": {},
   "source": [
    "## Preprocessing"
   ]
  },
  {
   "cell_type": "code",
   "execution_count": 108,
   "metadata": {
    "scrolled": true
   },
   "outputs": [
    {
     "name": "stdout",
     "output_type": "stream",
     "text": [
      "train: (5216, 64, 64, 3) (5216, 2)\n",
      "test: (624, 64, 64, 3) (624, 2)\n",
      "val: (16, 64, 64, 3) (16, 2)\n"
     ]
    }
   ],
   "source": [
    "print('train:', train_images.shape, train_labels.shape)\n",
    "print('test:', test_images.shape, test_labels.shape)\n",
    "print('val:', val_images.shape, val_labels.shape)"
   ]
  },
  {
   "cell_type": "code",
   "execution_count": 130,
   "metadata": {},
   "outputs": [],
   "source": [
    "#preprocessing images\n",
    "train_unrow = train_images.reshape(5216,-1)"
   ]
  },
  {
   "cell_type": "code",
   "execution_count": 131,
   "metadata": {},
   "outputs": [
    {
     "data": {
      "text/plain": [
       "(5216, 12288)"
      ]
     },
     "execution_count": 131,
     "metadata": {},
     "output_type": "execute_result"
    }
   ],
   "source": [
    "train_unrow.shape"
   ]
  },
  {
   "cell_type": "code",
   "execution_count": 132,
   "metadata": {},
   "outputs": [
    {
     "data": {
      "text/plain": [
       "(624, 12288)"
      ]
     },
     "execution_count": 132,
     "metadata": {},
     "output_type": "execute_result"
    }
   ],
   "source": [
    "test_unrow = test_images.reshape(624, -1)\n",
    "test_unrow.shape"
   ]
  },
  {
   "cell_type": "code",
   "execution_count": 133,
   "metadata": {},
   "outputs": [
    {
     "data": {
      "text/plain": [
       "(16, 12288)"
      ]
     },
     "execution_count": 133,
     "metadata": {},
     "output_type": "execute_result"
    }
   ],
   "source": [
    "val_unrow = val_images.reshape(16, -1)\n",
    "val_unrow.shape"
   ]
  },
  {
   "cell_type": "code",
   "execution_count": 78,
   "metadata": {},
   "outputs": [
    {
     "data": {
      "text/plain": [
       "array([[1., 0.],\n",
       "       [0., 1.],\n",
       "       [0., 1.],\n",
       "       ...,\n",
       "       [0., 1.],\n",
       "       [0., 1.],\n",
       "       [0., 1.]], dtype=float32)"
      ]
     },
     "execution_count": 78,
     "metadata": {},
     "output_type": "execute_result"
    }
   ],
   "source": [
    "#preprocessing labels\n",
    "train_labels"
   ]
  },
  {
   "cell_type": "code",
   "execution_count": 79,
   "metadata": {},
   "outputs": [
    {
     "data": {
      "text/plain": [
       "{'NORMAL': 0, 'PNEUMONIA': 1}"
      ]
     },
     "execution_count": 79,
     "metadata": {},
     "output_type": "execute_result"
    }
   ],
   "source": [
    "train_generator.class_indices"
   ]
  },
  {
   "cell_type": "code",
   "execution_count": 177,
   "metadata": {},
   "outputs": [],
   "source": [
    "train_label_final = np.reshape(train_labels[:,1], (5216,1))"
   ]
  },
  {
   "cell_type": "code",
   "execution_count": 178,
   "metadata": {},
   "outputs": [
    {
     "data": {
      "text/plain": [
       "(5216, 1)"
      ]
     },
     "execution_count": 178,
     "metadata": {},
     "output_type": "execute_result"
    }
   ],
   "source": [
    "np.shape(train_label_final)"
   ]
  },
  {
   "cell_type": "code",
   "execution_count": 146,
   "metadata": {},
   "outputs": [
    {
     "data": {
      "image/png": "[encoded data removed]",
      "text/plain": [
       "<PIL.Image.Image image mode=RGB size=64x64 at 0x7FB83B858E20>"
      ]
     },
     "execution_count": 146,
     "metadata": {},
     "output_type": "execute_result"
    }
   ],
   "source": [
    "array_to_img(train_images[0])"
   ]
  },
  {
   "cell_type": "code",
   "execution_count": 147,
   "metadata": {},
   "outputs": [
    {
     "data": {
      "text/plain": [
       "array([0.], dtype=float32)"
      ]
     },
     "execution_count": 147,
     "metadata": {},
     "output_type": "execute_result"
    }
   ],
   "source": [
    "# value 0 = normal, value 1 = pneumonia \n",
    "train_label_final[0]"
   ]
  },
  {
   "cell_type": "code",
   "execution_count": 179,
   "metadata": {},
   "outputs": [
    {
     "data": {
      "text/plain": [
       "(624, 1)"
      ]
     },
     "execution_count": 179,
     "metadata": {},
     "output_type": "execute_result"
    }
   ],
   "source": [
    "test_label_final = np.reshape(test_labels[:,1], (624,1))\n",
    "np.shape(test_label_final)"
   ]
  },
  {
   "cell_type": "code",
   "execution_count": 180,
   "metadata": {},
   "outputs": [
    {
     "data": {
      "text/plain": [
       "(16, 1)"
      ]
     },
     "execution_count": 180,
     "metadata": {},
     "output_type": "execute_result"
    }
   ],
   "source": [
    "val_label_final = np.reshape(val_labels[:,1], (16,1))\n",
    "np.shape(val_label_final)"
   ]
  },
  {
   "cell_type": "code",
   "execution_count": 141,
   "metadata": {
    "scrolled": false
   },
   "outputs": [
    {
     "data": {
      "image/png": "[encoded data removed]",
      "text/plain": [
       "<PIL.Image.Image image mode=RGB size=64x64 at 0x7FB83BB95EB0>"
      ]
     },
     "execution_count": 141,
     "metadata": {},
     "output_type": "execute_result"
    }
   ],
   "source": [
    "array_to_img(train_images[46])"
   ]
  },
  {
   "cell_type": "code",
   "execution_count": 142,
   "metadata": {},
   "outputs": [],
   "source": [
    "#print(train_label_final.index[:,0])"
   ]
  },
  {
   "cell_type": "code",
   "execution_count": 148,
   "metadata": {},
   "outputs": [
    {
     "data": {
      "text/plain": [
       "array([1.], dtype=float32)"
      ]
     },
     "execution_count": 148,
     "metadata": {},
     "output_type": "execute_result"
    }
   ],
   "source": [
    "train_label_final[46]"
   ]
  },
  {
   "cell_type": "markdown",
   "metadata": {},
   "source": [
    "### Data Normalization"
   ]
  },
  {
   "cell_type": "code",
   "execution_count": 151,
   "metadata": {},
   "outputs": [],
   "source": [
    "#normalizing data\n",
    "train_image_final = train_unrow/255\n",
    "test_image_final = test_unrow/255\n",
    "val_image_final = val_unrow/255"
   ]
  },
  {
   "cell_type": "code",
   "execution_count": 152,
   "metadata": {},
   "outputs": [
    {
     "data": {
      "text/plain": [
       "(5216, 12288)"
      ]
     },
     "execution_count": 152,
     "metadata": {},
     "output_type": "execute_result"
    }
   ],
   "source": [
    "train_image_final.shape"
   ]
  },
  {
   "cell_type": "markdown",
   "metadata": {},
   "source": [
    "## Baseline model"
   ]
  },
  {
   "cell_type": "code",
   "execution_count": 206,
   "metadata": {},
   "outputs": [],
   "source": [
    "np.random.seed(123)\n",
    "base_model = models.Sequential()\n",
    "base_model.add(layers.Dense(2000, activation='relu', input_shape=(12288,)))\n",
    "base_model.add(layers.Dense(100, activation='relu'))\n",
    "base_model.add(layers.Dense(1, activation='softmax'))"
   ]
  },
  {
   "cell_type": "code",
   "execution_count": 207,
   "metadata": {},
   "outputs": [],
   "source": [
    "base_model.compile(loss='categorical_crossentropy', optimizer='sgd', metrics=['acc'])"
   ]
  },
  {
   "cell_type": "code",
   "execution_count": 208,
   "metadata": {},
   "outputs": [
    {
     "name": "stdout",
     "output_type": "stream",
     "text": [
      "Model: \"sequential_24\"\n",
      "_________________________________________________________________\n",
      "Layer (type)                 Output Shape              Param #   \n",
      "=================================================================\n",
      "dense_30 (Dense)             (None, 2000)              24578000  \n",
      "_________________________________________________________________\n",
      "dense_31 (Dense)             (None, 100)               200100    \n",
      "_________________________________________________________________\n",
      "dense_32 (Dense)             (None, 1)                 101       \n",
      "=================================================================\n",
      "Total params: 24,778,201\n",
      "Trainable params: 24,778,201\n",
      "Non-trainable params: 0\n",
      "_________________________________________________________________\n"
     ]
    }
   ],
   "source": [
    "base_model.summary()"
   ]
  },
  {
   "cell_type": "code",
   "execution_count": 209,
   "metadata": {
    "scrolled": true
   },
   "outputs": [
    {
     "name": "stdout",
     "output_type": "stream",
     "text": [
      "Epoch 1/10\n",
      "82/82 [==============================] - 11s 131ms/step - loss: nan - acc: 0.3675 - val_loss: nan - val_acc: 0.5000\n",
      "Epoch 2/10\n",
      "82/82 [==============================] - 11s 133ms/step - loss: nan - acc: 0.2571 - val_loss: nan - val_acc: 0.5000\n",
      "Epoch 3/10\n",
      "82/82 [==============================] - 10s 127ms/step - loss: nan - acc: 0.2571 - val_loss: nan - val_acc: 0.5000\n",
      "Epoch 4/10\n",
      "82/82 [==============================] - 11s 140ms/step - loss: nan - acc: 0.2571 - val_loss: nan - val_acc: 0.5000\n",
      "Epoch 5/10\n",
      "82/82 [==============================] - 11s 133ms/step - loss: nan - acc: 0.2571 - val_loss: nan - val_acc: 0.5000\n",
      "Epoch 6/10\n",
      "82/82 [==============================] - 11s 131ms/step - loss: nan - acc: 0.2571 - val_loss: nan - val_acc: 0.5000\n",
      "Epoch 7/10\n",
      "82/82 [==============================] - 12s 152ms/step - loss: nan - acc: 0.2571 - val_loss: nan - val_acc: 0.5000\n",
      "Epoch 8/10\n",
      "82/82 [==============================] - 12s 149ms/step - loss: nan - acc: 0.2571 - val_loss: nan - val_acc: 0.5000\n",
      "Epoch 9/10\n",
      "82/82 [==============================] - 11s 134ms/step - loss: nan - acc: 0.2571 - val_loss: nan - val_acc: 0.5000\n",
      "Epoch 10/10\n",
      "82/82 [==============================] - 11s 137ms/step - loss: nan - acc: 0.2571 - val_loss: nan - val_acc: 0.5000\n"
     ]
    }
   ],
   "source": [
    "base_results = base_model.fit(train_image_final, train_label_final, epochs=10, \n",
    "                              batch_size=64, validation_data=(val_image_final, val_label_final))"
   ]
  },
  {
   "cell_type": "code",
   "execution_count": 210,
   "metadata": {},
   "outputs": [],
   "source": [
    "def visualize_training_results(results):\n",
    "    history = results.history\n",
    "    plt.figure()\n",
    "    plt.plot(history['val_loss'])\n",
    "    plt.plot(history['loss'])\n",
    "    plt.legend(['val_loss', 'loss'])\n",
    "    plt.title('Loss')\n",
    "    plt.xlabel('Epochs')\n",
    "    plt.ylabel('Loss')\n",
    "    plt.show()\n",
    "    \n",
    "    plt.figure()\n",
    "    plt.plot(history['val_acc'])\n",
    "    plt.plot(history['acc'])\n",
    "    plt.legend(['val_acc', 'acc'])\n",
    "    plt.title('Accuracy')\n",
    "    plt.xlabel('Epochs')\n",
    "    plt.ylabel('Accuracy')\n",
    "    plt.show()"
   ]
  },
  {
   "cell_type": "code",
   "execution_count": 211,
   "metadata": {
    "scrolled": false
   },
   "outputs": [
    {
     "data": {
      "image/png": "[encoded data removed]",
      "text/plain": [
       "<Figure size 432x288 with 1 Axes>"
      ]
     },
     "metadata": {
      "needs_background": "light"
     },
     "output_type": "display_data"
    },
    {
     "data": {
      "image/png": "[encoded data removed]",
      "text/plain": [
       "<Figure size 432x288 with 1 Axes>"
      ]
     },
     "metadata": {
      "needs_background": "light"
     },
     "output_type": "display_data"
    }
   ],
   "source": [
    "visualize_training_results(base_results)"
   ]
  },
  {
   "cell_type": "code",
   "execution_count": null,
   "metadata": {},
   "outputs": [],
   "source": []
  },
  {
   "cell_type": "code",
   "execution_count": null,
   "metadata": {},
   "outputs": [],
   "source": []
  },
  {
   "cell_type": "code",
   "execution_count": 224,
   "metadata": {},
   "outputs": [
    {
     "name": "stdout",
     "output_type": "stream",
     "text": [
      "Model: \"sequential_29\"\n",
      "_________________________________________________________________\n",
      "Layer (type)                 Output Shape              Param #   \n",
      "=================================================================\n",
      "conv2d_13 (Conv2D)           (None, 62, 62, 32)        896       \n",
      "_________________________________________________________________\n",
      "max_pooling2d_11 (MaxPooling (None, 31, 31, 32)        0         \n",
      "_________________________________________________________________\n",
      "conv2d_14 (Conv2D)           (None, 29, 29, 64)        18496     \n",
      "_________________________________________________________________\n",
      "max_pooling2d_12 (MaxPooling (None, 14, 14, 64)        0         \n",
      "_________________________________________________________________\n",
      "conv2d_15 (Conv2D)           (None, 12, 12, 64)        36928     \n",
      "_________________________________________________________________\n",
      "flatten_5 (Flatten)          (None, 9216)              0         \n",
      "_________________________________________________________________\n",
      "dense_39 (Dense)             (None, 64)                589888    \n",
      "_________________________________________________________________\n",
      "dense_40 (Dense)             (None, 1)                 65        \n",
      "=================================================================\n",
      "Total params: 646,273\n",
      "Trainable params: 646,273\n",
      "Non-trainable params: 0\n",
      "_________________________________________________________________\n"
     ]
    }
   ],
   "source": [
    "model = models.Sequential()\n",
    "model.add(layers.Conv2D(32, (3,3), activation='relu',\n",
    "                        input_shape=(64,64,3)))\n",
    "model.add(layers.MaxPooling2D((2, 2)))\n",
    "model.add(layers.Conv2D(64, (3, 3), activation='relu'))\n",
    "model.add(layers.MaxPooling2D((2, 2)))\n",
    "model.add(layers.Conv2D(64, (3, 3), activation='relu'))\n",
    "\n",
    "model.add(layers.Flatten())\n",
    "model.add(layers.Dense(64, activation='relu'))\n",
    "model.add(layers.Dense(1, activation='sigmoid'))\n",
    "\n",
    "model.summary()"
   ]
  },
  {
   "cell_type": "code",
   "execution_count": 225,
   "metadata": {},
   "outputs": [],
   "source": [
    "model.compile(loss='binary_crossentropy',\n",
    "              optimizer=\"adam\",\n",
    "              metrics=['acc'])"
   ]
  },
  {
   "cell_type": "code",
   "execution_count": 226,
   "metadata": {},
   "outputs": [
    {
     "name": "stdout",
     "output_type": "stream",
     "text": [
      "Epoch 1/100\n",
      "163/163 [==============================] - 42s 258ms/step - loss: 3.4283 - acc: 0.8875 - val_loss: 1.1044 - val_acc: 0.6250\n",
      "Epoch 2/100\n",
      "163/163 [==============================] - 35s 214ms/step - loss: 0.1410 - acc: 0.9482 - val_loss: 0.2006 - val_acc: 1.0000\n",
      "Epoch 3/100\n",
      "163/163 [==============================] - 34s 210ms/step - loss: 0.1085 - acc: 0.9599 - val_loss: 0.1795 - val_acc: 1.0000\n",
      "Epoch 4/100\n",
      "163/163 [==============================] - 37s 227ms/step - loss: 0.0939 - acc: 0.9647 - val_loss: 0.3648 - val_acc: 0.7500\n",
      "Epoch 5/100\n",
      "163/163 [==============================] - 40s 246ms/step - loss: 0.0887 - acc: 0.9674 - val_loss: 0.1992 - val_acc: 0.8750\n",
      "Epoch 6/100\n",
      "163/163 [==============================] - 39s 236ms/step - loss: 0.0815 - acc: 0.9688 - val_loss: 0.2995 - val_acc: 0.8125\n",
      "Epoch 7/100\n",
      "163/163 [==============================] - 42s 260ms/step - loss: 0.0696 - acc: 0.9728 - val_loss: 0.4526 - val_acc: 0.7500\n",
      "Epoch 8/100\n",
      "163/163 [==============================] - 45s 276ms/step - loss: 0.0624 - acc: 0.9764 - val_loss: 0.2582 - val_acc: 0.8750\n",
      "Epoch 9/100\n",
      "163/163 [==============================] - 35s 212ms/step - loss: 0.0578 - acc: 0.9793 - val_loss: 0.3406 - val_acc: 0.8125\n",
      "Epoch 10/100\n",
      "163/163 [==============================] - 38s 233ms/step - loss: 0.0507 - acc: 0.9793 - val_loss: 0.5162 - val_acc: 0.8125\n",
      "Epoch 11/100\n",
      "163/163 [==============================] - 32s 193ms/step - loss: 0.0427 - acc: 0.9831 - val_loss: 0.1840 - val_acc: 0.9375\n",
      "Epoch 12/100\n",
      "163/163 [==============================] - 37s 230ms/step - loss: 0.0406 - acc: 0.9847 - val_loss: 0.3755 - val_acc: 0.8750\n",
      "Epoch 13/100\n",
      "163/163 [==============================] - 35s 215ms/step - loss: 0.0467 - acc: 0.9822 - val_loss: 1.0015 - val_acc: 0.7500\n",
      "Epoch 14/100\n",
      "163/163 [==============================] - 32s 194ms/step - loss: 0.0412 - acc: 0.9847 - val_loss: 0.2747 - val_acc: 0.8750\n",
      "Epoch 15/100\n",
      "163/163 [==============================] - 33s 200ms/step - loss: 0.0401 - acc: 0.9858 - val_loss: 0.4226 - val_acc: 0.8125\n",
      "Epoch 16/100\n",
      "163/163 [==============================] - 34s 211ms/step - loss: 0.0489 - acc: 0.9803 - val_loss: 0.2498 - val_acc: 0.8750\n",
      "Epoch 17/100\n",
      "163/163 [==============================] - 36s 222ms/step - loss: 0.0312 - acc: 0.9889 - val_loss: 0.2467 - val_acc: 0.8750\n",
      "Epoch 18/100\n",
      "163/163 [==============================] - 33s 204ms/step - loss: 0.0281 - acc: 0.9908 - val_loss: 0.7191 - val_acc: 0.8750\n",
      "Epoch 19/100\n",
      "163/163 [==============================] - 33s 204ms/step - loss: 0.0244 - acc: 0.9898 - val_loss: 0.3772 - val_acc: 0.9375\n",
      "Epoch 20/100\n",
      "163/163 [==============================] - 33s 205ms/step - loss: 0.0092 - acc: 0.9969 - val_loss: 0.3421 - val_acc: 0.9375\n",
      "Epoch 21/100\n",
      "163/163 [==============================] - 37s 230ms/step - loss: 0.0105 - acc: 0.9971 - val_loss: 0.8594 - val_acc: 0.7500\n",
      "Epoch 22/100\n",
      "163/163 [==============================] - 38s 236ms/step - loss: 0.0264 - acc: 0.9895 - val_loss: 0.0800 - val_acc: 1.0000\n",
      "Epoch 23/100\n",
      "163/163 [==============================] - 36s 222ms/step - loss: 0.0386 - acc: 0.9854 - val_loss: 0.6222 - val_acc: 0.8125\n",
      "Epoch 24/100\n",
      "163/163 [==============================] - 40s 244ms/step - loss: 0.0248 - acc: 0.9912 - val_loss: 0.1960 - val_acc: 0.9375\n",
      "Epoch 25/100\n",
      "163/163 [==============================] - 48s 294ms/step - loss: 0.0233 - acc: 0.9912 - val_loss: 0.0527 - val_acc: 0.9375\n",
      "Epoch 26/100\n",
      "163/163 [==============================] - 65s 402ms/step - loss: 0.0113 - acc: 0.9960 - val_loss: 0.3267 - val_acc: 0.9375\n",
      "Epoch 27/100\n",
      "163/163 [==============================] - 42s 261ms/step - loss: 0.0146 - acc: 0.9950 - val_loss: 0.3371 - val_acc: 0.9375\n",
      "Epoch 28/100\n",
      "163/163 [==============================] - 35s 216ms/step - loss: 0.0122 - acc: 0.9960 - val_loss: 0.4735 - val_acc: 0.8750\n",
      "Epoch 29/100\n",
      "163/163 [==============================] - 43s 265ms/step - loss: 0.0075 - acc: 0.9977 - val_loss: 1.0106 - val_acc: 0.8125\n",
      "Epoch 30/100\n",
      "163/163 [==============================] - 42s 255ms/step - loss: 0.0021 - acc: 0.9998 - val_loss: 0.3270 - val_acc: 0.9375\n",
      "Epoch 31/100\n",
      "163/163 [==============================] - 52s 317ms/step - loss: 0.0012 - acc: 0.9998 - val_loss: 0.3617 - val_acc: 0.9375\n",
      "Epoch 32/100\n",
      "163/163 [==============================] - 38s 231ms/step - loss: 0.0574 - acc: 0.9806 - val_loss: 0.2643 - val_acc: 0.9375\n",
      "Epoch 33/100\n",
      "163/163 [==============================] - 43s 263ms/step - loss: 0.0328 - acc: 0.9873 - val_loss: 0.4571 - val_acc: 0.9375\n",
      "Epoch 34/100\n",
      "163/163 [==============================] - 36s 218ms/step - loss: 0.0155 - acc: 0.9941 - val_loss: 0.2803 - val_acc: 0.9375\n",
      "Epoch 35/100\n",
      "163/163 [==============================] - 46s 283ms/step - loss: 0.0130 - acc: 0.9956 - val_loss: 0.5114 - val_acc: 0.8750\n",
      "Epoch 36/100\n",
      "163/163 [==============================] - 51s 311ms/step - loss: 0.0084 - acc: 0.9973 - val_loss: 0.8486 - val_acc: 0.9375\n",
      "Epoch 37/100\n",
      "163/163 [==============================] - 47s 287ms/step - loss: 0.0192 - acc: 0.9939 - val_loss: 0.2693 - val_acc: 0.8750\n",
      "Epoch 38/100\n",
      "163/163 [==============================] - 42s 255ms/step - loss: 0.0251 - acc: 0.9896 - val_loss: 0.0875 - val_acc: 0.9375\n",
      "Epoch 39/100\n",
      "163/163 [==============================] - 27s 165ms/step - loss: 0.0221 - acc: 0.9925 - val_loss: 0.0665 - val_acc: 0.9375\n",
      "Epoch 40/100\n",
      "163/163 [==============================] - 23s 143ms/step - loss: 0.0135 - acc: 0.9958 - val_loss: 1.2783 - val_acc: 0.7500\n",
      "Epoch 41/100\n",
      "163/163 [==============================] - 22s 133ms/step - loss: 0.0100 - acc: 0.9964 - val_loss: 0.7404 - val_acc: 0.9375\n",
      "Epoch 42/100\n",
      "163/163 [==============================] - 24s 148ms/step - loss: 0.0259 - acc: 0.9918 - val_loss: 0.1854 - val_acc: 0.9375\n",
      "Epoch 43/100\n",
      "163/163 [==============================] - 26s 159ms/step - loss: 0.0148 - acc: 0.9941 - val_loss: 0.3244 - val_acc: 0.9375\n",
      "Epoch 44/100\n",
      "163/163 [==============================] - 26s 157ms/step - loss: 0.0024 - acc: 0.9992 - val_loss: 0.0452 - val_acc: 0.9375\n",
      "Epoch 45/100\n",
      "163/163 [==============================] - 23s 142ms/step - loss: 4.9561e-04 - acc: 1.0000 - val_loss: 0.3728 - val_acc: 0.9375\n",
      "Epoch 46/100\n",
      "163/163 [==============================] - 24s 147ms/step - loss: 0.0016 - acc: 0.9994 - val_loss: 0.4708 - val_acc: 0.8750\n",
      "Epoch 47/100\n",
      "163/163 [==============================] - 30s 182ms/step - loss: 0.0422 - acc: 0.9891 - val_loss: 1.2836 - val_acc: 0.8125\n",
      "Epoch 48/100\n",
      "163/163 [==============================] - 27s 163ms/step - loss: 0.0873 - acc: 0.9803 - val_loss: 0.2095 - val_acc: 0.9375\n",
      "Epoch 49/100\n",
      "163/163 [==============================] - 23s 142ms/step - loss: 0.0309 - acc: 0.9898 - val_loss: 0.3878 - val_acc: 0.9375\n",
      "Epoch 50/100\n",
      "163/163 [==============================] - 26s 158ms/step - loss: 0.0094 - acc: 0.9965 - val_loss: 0.5880 - val_acc: 0.9375\n",
      "Epoch 51/100\n",
      "163/163 [==============================] - 22s 135ms/step - loss: 0.0024 - acc: 0.9994 - val_loss: 0.5630 - val_acc: 0.9375\n",
      "Epoch 52/100\n",
      "163/163 [==============================] - 22s 135ms/step - loss: 0.0013 - acc: 0.9998 - val_loss: 0.9168 - val_acc: 0.9375\n",
      "Epoch 53/100\n",
      "163/163 [==============================] - 22s 135ms/step - loss: 1.6236e-04 - acc: 1.0000 - val_loss: 0.8034 - val_acc: 0.9375\n",
      "Epoch 54/100\n",
      "163/163 [==============================] - 23s 138ms/step - loss: 7.7980e-05 - acc: 1.0000 - val_loss: 0.8290 - val_acc: 0.9375\n",
      "Epoch 55/100\n",
      "163/163 [==============================] - 24s 146ms/step - loss: 5.4852e-05 - acc: 1.0000 - val_loss: 0.8344 - val_acc: 0.9375\n",
      "Epoch 56/100\n",
      "163/163 [==============================] - 22s 137ms/step - loss: 4.5141e-05 - acc: 1.0000 - val_loss: 0.8492 - val_acc: 0.9375\n",
      "Epoch 57/100\n",
      "163/163 [==============================] - 22s 133ms/step - loss: 3.6362e-05 - acc: 1.0000 - val_loss: 0.8560 - val_acc: 0.9375\n",
      "Epoch 58/100\n",
      "163/163 [==============================] - 21s 129ms/step - loss: 3.0398e-05 - acc: 1.0000 - val_loss: 0.8691 - val_acc: 0.9375\n",
      "Epoch 59/100\n",
      "163/163 [==============================] - 21s 130ms/step - loss: 2.6060e-05 - acc: 1.0000 - val_loss: 0.8832 - val_acc: 0.9375\n",
      "Epoch 60/100\n"
     ]
    },
    {
     "name": "stdout",
     "output_type": "stream",
     "text": [
      "163/163 [==============================] - 20s 126ms/step - loss: 2.2837e-05 - acc: 1.0000 - val_loss: 0.8860 - val_acc: 0.9375\n",
      "Epoch 61/100\n",
      "163/163 [==============================] - 21s 126ms/step - loss: 2.0277e-05 - acc: 1.0000 - val_loss: 0.9081 - val_acc: 0.9375\n",
      "Epoch 62/100\n",
      "163/163 [==============================] - 21s 127ms/step - loss: 1.8088e-05 - acc: 1.0000 - val_loss: 0.9150 - val_acc: 0.9375\n",
      "Epoch 63/100\n",
      "163/163 [==============================] - 22s 132ms/step - loss: 1.6007e-05 - acc: 1.0000 - val_loss: 0.9131 - val_acc: 0.9375\n",
      "Epoch 64/100\n",
      "163/163 [==============================] - 22s 136ms/step - loss: 1.4595e-05 - acc: 1.0000 - val_loss: 0.9237 - val_acc: 0.9375\n",
      "Epoch 65/100\n",
      "163/163 [==============================] - 21s 130ms/step - loss: 1.2869e-05 - acc: 1.0000 - val_loss: 0.9551 - val_acc: 0.9375\n",
      "Epoch 66/100\n",
      "163/163 [==============================] - 24s 144ms/step - loss: 1.1780e-05 - acc: 1.0000 - val_loss: 0.9518 - val_acc: 0.9375\n",
      "Epoch 67/100\n",
      "163/163 [==============================] - 21s 130ms/step - loss: 1.0549e-05 - acc: 1.0000 - val_loss: 0.9703 - val_acc: 0.9375\n",
      "Epoch 68/100\n",
      "163/163 [==============================] - 21s 128ms/step - loss: 9.4666e-06 - acc: 1.0000 - val_loss: 0.9883 - val_acc: 0.9375\n",
      "Epoch 69/100\n",
      "163/163 [==============================] - 22s 133ms/step - loss: 8.8401e-06 - acc: 1.0000 - val_loss: 0.9870 - val_acc: 0.9375\n",
      "Epoch 70/100\n",
      "163/163 [==============================] - 21s 131ms/step - loss: 7.8160e-06 - acc: 1.0000 - val_loss: 0.9951 - val_acc: 0.9375\n",
      "Epoch 71/100\n",
      "163/163 [==============================] - 21s 131ms/step - loss: 7.0700e-06 - acc: 1.0000 - val_loss: 0.9866 - val_acc: 0.9375\n",
      "Epoch 72/100\n",
      "163/163 [==============================] - 21s 130ms/step - loss: 6.5496e-06 - acc: 1.0000 - val_loss: 1.0007 - val_acc: 0.9375\n",
      "Epoch 73/100\n",
      "163/163 [==============================] - 21s 128ms/step - loss: 5.8519e-06 - acc: 1.0000 - val_loss: 1.0036 - val_acc: 0.9375\n",
      "Epoch 74/100\n",
      "163/163 [==============================] - 21s 130ms/step - loss: 5.4365e-06 - acc: 1.0000 - val_loss: 1.0293 - val_acc: 0.9375\n",
      "Epoch 75/100\n",
      "163/163 [==============================] - 21s 131ms/step - loss: 4.9213e-06 - acc: 1.0000 - val_loss: 1.0438 - val_acc: 0.9375\n",
      "Epoch 76/100\n",
      "163/163 [==============================] - 21s 130ms/step - loss: 4.4601e-06 - acc: 1.0000 - val_loss: 1.0579 - val_acc: 0.9375\n",
      "Epoch 77/100\n",
      "163/163 [==============================] - 22s 134ms/step - loss: 4.0452e-06 - acc: 1.0000 - val_loss: 1.0655 - val_acc: 0.9375\n",
      "Epoch 78/100\n",
      "163/163 [==============================] - 21s 129ms/step - loss: 3.7390e-06 - acc: 1.0000 - val_loss: 1.0733 - val_acc: 0.9375\n",
      "Epoch 79/100\n",
      "163/163 [==============================] - 21s 129ms/step - loss: 3.4345e-06 - acc: 1.0000 - val_loss: 1.0778 - val_acc: 0.9375\n",
      "Epoch 80/100\n",
      "163/163 [==============================] - 21s 131ms/step - loss: 3.0806e-06 - acc: 1.0000 - val_loss: 1.0985 - val_acc: 0.9375\n",
      "Epoch 81/100\n",
      "163/163 [==============================] - 25s 152ms/step - loss: 2.7982e-06 - acc: 1.0000 - val_loss: 1.1159 - val_acc: 0.9375\n",
      "Epoch 82/100\n",
      "163/163 [==============================] - 26s 157ms/step - loss: 2.5730e-06 - acc: 1.0000 - val_loss: 1.1124 - val_acc: 0.9375\n",
      "Epoch 83/100\n",
      "163/163 [==============================] - 26s 160ms/step - loss: 2.3597e-06 - acc: 1.0000 - val_loss: 1.1288 - val_acc: 0.9375\n",
      "Epoch 84/100\n",
      "163/163 [==============================] - 26s 159ms/step - loss: 2.1261e-06 - acc: 1.0000 - val_loss: 1.1341 - val_acc: 0.9375\n",
      "Epoch 85/100\n",
      "163/163 [==============================] - 26s 159ms/step - loss: 1.9261e-06 - acc: 1.0000 - val_loss: 1.1542 - val_acc: 0.9375\n",
      "Epoch 86/100\n",
      "163/163 [==============================] - 26s 159ms/step - loss: 1.7692e-06 - acc: 1.0000 - val_loss: 1.1532 - val_acc: 0.9375\n",
      "Epoch 87/100\n",
      "163/163 [==============================] - 26s 157ms/step - loss: 1.5827e-06 - acc: 1.0000 - val_loss: 1.1853 - val_acc: 0.9375\n",
      "Epoch 88/100\n",
      "163/163 [==============================] - 24s 146ms/step - loss: 1.4725e-06 - acc: 1.0000 - val_loss: 1.1860 - val_acc: 0.9375\n",
      "Epoch 89/100\n",
      "163/163 [==============================] - 21s 129ms/step - loss: 1.3287e-06 - acc: 1.0000 - val_loss: 1.2030 - val_acc: 0.9375\n",
      "Epoch 90/100\n",
      "163/163 [==============================] - 22s 134ms/step - loss: 1.2127e-06 - acc: 1.0000 - val_loss: 1.2034 - val_acc: 0.9375\n",
      "Epoch 91/100\n",
      "163/163 [==============================] - 21s 130ms/step - loss: 1.0931e-06 - acc: 1.0000 - val_loss: 1.2123 - val_acc: 0.9375\n",
      "Epoch 92/100\n",
      "163/163 [==============================] - 21s 130ms/step - loss: 9.9940e-07 - acc: 1.0000 - val_loss: 1.2168 - val_acc: 0.9375\n",
      "Epoch 93/100\n",
      "163/163 [==============================] - 21s 132ms/step - loss: 9.1666e-07 - acc: 1.0000 - val_loss: 1.2279 - val_acc: 0.9375\n",
      "Epoch 94/100\n",
      "163/163 [==============================] - 21s 131ms/step - loss: 8.2972e-07 - acc: 1.0000 - val_loss: 1.2331 - val_acc: 0.9375\n",
      "Epoch 95/100\n",
      "163/163 [==============================] - 21s 131ms/step - loss: 7.6194e-07 - acc: 1.0000 - val_loss: 1.2489 - val_acc: 0.9375\n",
      "Epoch 96/100\n",
      "163/163 [==============================] - 22s 132ms/step - loss: 6.8126e-07 - acc: 1.0000 - val_loss: 1.2658 - val_acc: 0.9375\n",
      "Epoch 97/100\n",
      "163/163 [==============================] - 21s 129ms/step - loss: 6.1841e-07 - acc: 1.0000 - val_loss: 1.2994 - val_acc: 0.9375\n",
      "Epoch 98/100\n",
      "163/163 [==============================] - 22s 133ms/step - loss: 5.7504e-07 - acc: 1.0000 - val_loss: 1.2870 - val_acc: 0.9375\n",
      "Epoch 99/100\n",
      "163/163 [==============================] - 21s 131ms/step - loss: 5.1576e-07 - acc: 1.0000 - val_loss: 1.2991 - val_acc: 0.9375\n",
      "Epoch 100/100\n",
      "163/163 [==============================] - 22s 135ms/step - loss: 4.6934e-07 - acc: 1.0000 - val_loss: 1.3175 - val_acc: 0.9375\n"
     ]
    }
   ],
   "source": [
    "results_1 = model.fit(train_images,\n",
    "                    train_label_final,\n",
    "                    epochs=100,\n",
    "                    validation_data=(val_images, val_label_final))"
   ]
  },
  {
   "cell_type": "code",
   "execution_count": 227,
   "metadata": {
    "scrolled": false
   },
   "outputs": [
    {
     "data": {
      "image/png": "[encoded data removed]",
      "text/plain": [
       "<Figure size 432x288 with 1 Axes>"
      ]
     },
     "metadata": {
      "needs_background": "light"
     },
     "output_type": "display_data"
    },
    {
     "data": {
      "image/png": "[encoded data removed]",
      "text/plain": [
       "<Figure size 432x288 with 1 Axes>"
      ]
     },
     "metadata": {
      "needs_background": "light"
     },
     "output_type": "display_data"
    }
   ],
   "source": [
    "visualize_training_results(results_1)"
   ]
  },
  {
   "cell_type": "code",
   "execution_count": 229,
   "metadata": {},
   "outputs": [
    {
     "name": "stdout",
     "output_type": "stream",
     "text": [
      "163/163 [==============================] - 6s 38ms/step - loss: 4.2461e-07 - acc: 1.0000: 1s - los\n"
     ]
    },
    {
     "data": {
      "text/plain": [
       "[4.246057869750075e-07, 1.0]"
      ]
     },
     "execution_count": 229,
     "metadata": {},
     "output_type": "execute_result"
    }
   ],
   "source": [
    "results_1_train = model.evaluate(train_images, train_label_final)\n",
    "results_1_train"
   ]
  },
  {
   "cell_type": "code",
   "execution_count": 230,
   "metadata": {},
   "outputs": [
    {
     "name": "stdout",
     "output_type": "stream",
     "text": [
      "20/20 [==============================] - 1s 32ms/step - loss: 6.4779 - acc: 0.7468\n"
     ]
    },
    {
     "data": {
      "text/plain": [
       "[6.477949619293213, 0.7467948794364929]"
      ]
     },
     "execution_count": 230,
     "metadata": {},
     "output_type": "execute_result"
    }
   ],
   "source": [
    "results_1_test = model.evaluate(test_images, test_label_final)\n",
    "results_1_test"
   ]
  },
  {
   "cell_type": "code",
   "execution_count": null,
   "metadata": {},
   "outputs": [],
   "source": []
  },
  {
   "cell_type": "code",
   "execution_count": null,
   "metadata": {},
   "outputs": [],
   "source": []
  },
  {
   "cell_type": "code",
   "execution_count": 223,
   "metadata": {},
   "outputs": [],
   "source": [
    "#CNN"
   ]
  },
  {
   "cell_type": "code",
   "execution_count": 33,
   "metadata": {},
   "outputs": [],
   "source": [
    "model = models.Sequential()\n",
    "model.add(layers.Conv2D(32, (3, 3), activation='relu',\n",
    "                        input_shape=(64,64,3)))\n",
    "model.add(layers.MaxPooling2D((2, 2)))\n",
    "model.add(layers.Conv2D(64, (3, 3), activation='relu'))\n",
    "model.add(layers.MaxPooling2D((2, 2)))\n",
    "model.add(layers.Conv2D(128, (3, 3), activation='relu'))\n",
    "model.add(layers.MaxPooling2D((2, 2)))\n",
    "model.add(layers.Conv2D(128, (3, 3), activation='relu'))\n",
    "model.add(layers.MaxPooling2D((2, 2)))\n",
    "model.add(layers.Flatten())\n",
    "model.add(layers.Dense(512, activation='relu'))\n",
    "model.add(layers.Dense(1, activation='sigmoid'))"
   ]
  },
  {
   "cell_type": "code",
   "execution_count": 34,
   "metadata": {},
   "outputs": [],
   "source": [
    "from keras import optimizers\n",
    "\n",
    "model.compile(loss='binary_crossentropy',\n",
    "              optimizer=optimizers.RMSprop(lr=1e-4),\n",
    "              metrics=['acc'])"
   ]
  },
  {
   "cell_type": "code",
   "execution_count": 35,
   "metadata": {},
   "outputs": [
    {
     "name": "stdout",
     "output_type": "stream",
     "text": [
      "Model: \"sequential\"\n",
      "_________________________________________________________________\n",
      "Layer (type)                 Output Shape              Param #   \n",
      "=================================================================\n",
      "conv2d (Conv2D)              (None, 62, 62, 32)        896       \n",
      "_________________________________________________________________\n",
      "max_pooling2d (MaxPooling2D) (None, 31, 31, 32)        0         \n",
      "_________________________________________________________________\n",
      "conv2d_1 (Conv2D)            (None, 29, 29, 64)        18496     \n",
      "_________________________________________________________________\n",
      "max_pooling2d_1 (MaxPooling2 (None, 14, 14, 64)        0         \n",
      "_________________________________________________________________\n",
      "conv2d_2 (Conv2D)            (None, 12, 12, 128)       73856     \n",
      "_________________________________________________________________\n",
      "max_pooling2d_2 (MaxPooling2 (None, 6, 6, 128)         0         \n",
      "_________________________________________________________________\n",
      "conv2d_3 (Conv2D)            (None, 4, 4, 128)         147584    \n",
      "_________________________________________________________________\n",
      "max_pooling2d_3 (MaxPooling2 (None, 2, 2, 128)         0         \n",
      "_________________________________________________________________\n",
      "flatten (Flatten)            (None, 512)               0         \n",
      "_________________________________________________________________\n",
      "dense (Dense)                (None, 512)               262656    \n",
      "_________________________________________________________________\n",
      "dense_1 (Dense)              (None, 1)                 513       \n",
      "=================================================================\n",
      "Total params: 504,001\n",
      "Trainable params: 504,001\n",
      "Non-trainable params: 0\n",
      "_________________________________________________________________\n"
     ]
    }
   ],
   "source": [
    "model.summary()"
   ]
  },
  {
   "cell_type": "code",
   "execution_count": null,
   "metadata": {},
   "outputs": [],
   "source": []
  }
 ],
 "metadata": {
  "kernelspec": {
   "display_name": "Python (learn-env)",
   "language": "python",
   "name": "learn-env"
  },
  "language_info": {
   "codemirror_mode": {
    "name": "ipython",
    "version": 3
   },
   "file_extension": ".py",
   "mimetype": "text/x-python",
   "name": "python",
   "nbconvert_exporter": "python",
   "pygments_lexer": "ipython3",
   "version": "3.8.5"
  }
 },
 "nbformat": 4,
 "nbformat_minor": 4
}
