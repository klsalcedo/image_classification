{
 "cells": [
  {
   "cell_type": "code",
   "execution_count": 1,
   "metadata": {},
   "outputs": [],
   "source": [
    "import pandas as pd\n",
    "import numpy as np\n",
    "import keras\n",
    "from keras.preprocessing.image import ImageDataGenerator, array_to_img, img_to_array, load_img\n",
    "from keras import models \n",
    "from keras import layers \n",
    "import matplotlib.pyplot as plt\n",
    "%matplotlib inline\n",
    "import os\n",
    "from collections import Counter"
   ]
  },
  {
   "cell_type": "markdown",
   "metadata": {},
   "source": [
    "## Data"
   ]
  },
  {
   "cell_type": "code",
   "execution_count": 2,
   "metadata": {},
   "outputs": [],
   "source": [
    "train_data_dir = 'chest_xray/train'\n",
    "val_data_dir = 'chest_xray/val'\n",
    "test_data_dir = 'chest_xray/test'"
   ]
  },
  {
   "cell_type": "code",
   "execution_count": 3,
   "metadata": {
    "scrolled": true
   },
   "outputs": [
    {
     "name": "stdout",
     "output_type": "stream",
     "text": [
      "Found 5216 images belonging to 2 classes.\n",
      "Found 624 images belonging to 2 classes.\n",
      "Found 16 images belonging to 2 classes.\n"
     ]
    }
   ],
   "source": [
    "train_generator = ImageDataGenerator().flow_from_directory(train_data_dir, target_size=(64,64), batch_size=5216)\n",
    "test_generator = ImageDataGenerator().flow_from_directory(test_data_dir, target_size=(64,64), batch_size=624)\n",
    "val_generator = ImageDataGenerator().flow_from_directory(val_data_dir, target_size=(64,64), batch_size=16)"
   ]
  },
  {
   "cell_type": "code",
   "execution_count": 4,
   "metadata": {},
   "outputs": [
    {
     "name": "stdout",
     "output_type": "stream",
     "text": [
      "train: Counter({1: 3875, 0: 1341})\n",
      "test: Counter({1: 390, 0: 234})\n"
     ]
    }
   ],
   "source": [
    "# check for class imbalance \n",
    "train_counter = Counter(train_generator.classes)\n",
    "print('train:', train_counter)\n",
    "test_counter = Counter(test_generator.classes)\n",
    "print('test:', test_counter)"
   ]
  },
  {
   "cell_type": "code",
   "execution_count": 7,
   "metadata": {},
   "outputs": [],
   "source": [
    "train_images, train_labels = next(train_generator)\n",
    "test_images, test_labels = next(test_generator)\n",
    "val_images, val_labels = next(val_generator)"
   ]
  },
  {
   "cell_type": "code",
   "execution_count": 8,
   "metadata": {},
   "outputs": [
    {
     "data": {
      "image/png": "[encoded data removed]",
      "text/plain": [
       "<PIL.Image.Image image mode=RGB size=64x64 at 0x7FCF71A58CD0>"
      ]
     },
     "execution_count": 8,
     "metadata": {},
     "output_type": "execute_result"
    }
   ],
   "source": [
    "array_to_img(train_images[1])"
   ]
  },
  {
   "cell_type": "code",
   "execution_count": 9,
   "metadata": {},
   "outputs": [
    {
     "data": {
      "text/plain": [
       "array([0., 1.], dtype=float32)"
      ]
     },
     "execution_count": 9,
     "metadata": {},
     "output_type": "execute_result"
    }
   ],
   "source": [
    "train_labels[1]"
   ]
  },
  {
   "cell_type": "markdown",
   "metadata": {},
   "source": [
    "## Preprocessing"
   ]
  },
  {
   "cell_type": "code",
   "execution_count": 10,
   "metadata": {
    "scrolled": true
   },
   "outputs": [
    {
     "name": "stdout",
     "output_type": "stream",
     "text": [
      "train: (5216, 64, 64, 3) (5216, 2)\n",
      "test: (624, 64, 64, 3) (624, 2)\n",
      "val: (16, 64, 64, 3) (16, 2)\n"
     ]
    }
   ],
   "source": [
    "print('train:', train_images.shape, train_labels.shape)\n",
    "print('test:', test_images.shape, test_labels.shape)\n",
    "print('val:', val_images.shape, val_labels.shape)"
   ]
  },
  {
   "cell_type": "code",
   "execution_count": 11,
   "metadata": {},
   "outputs": [],
   "source": [
    "#preprocessing images\n",
    "train_unrow = train_images.reshape(5216,-1)"
   ]
  },
  {
   "cell_type": "code",
   "execution_count": 12,
   "metadata": {},
   "outputs": [
    {
     "data": {
      "text/plain": [
       "(5216, 12288)"
      ]
     },
     "execution_count": 12,
     "metadata": {},
     "output_type": "execute_result"
    }
   ],
   "source": [
    "train_unrow.shape"
   ]
  },
  {
   "cell_type": "code",
   "execution_count": 13,
   "metadata": {},
   "outputs": [
    {
     "data": {
      "text/plain": [
       "(624, 12288)"
      ]
     },
     "execution_count": 13,
     "metadata": {},
     "output_type": "execute_result"
    }
   ],
   "source": [
    "test_unrow = test_images.reshape(624, -1)\n",
    "test_unrow.shape"
   ]
  },
  {
   "cell_type": "code",
   "execution_count": 14,
   "metadata": {},
   "outputs": [
    {
     "data": {
      "text/plain": [
       "(16, 12288)"
      ]
     },
     "execution_count": 14,
     "metadata": {},
     "output_type": "execute_result"
    }
   ],
   "source": [
    "val_unrow = val_images.reshape(16, -1)\n",
    "val_unrow.shape"
   ]
  },
  {
   "cell_type": "code",
   "execution_count": 15,
   "metadata": {},
   "outputs": [
    {
     "data": {
      "text/plain": [
       "array([[0., 1.],\n",
       "       [0., 1.],\n",
       "       [0., 1.],\n",
       "       ...,\n",
       "       [0., 1.],\n",
       "       [0., 1.],\n",
       "       [0., 1.]], dtype=float32)"
      ]
     },
     "execution_count": 15,
     "metadata": {},
     "output_type": "execute_result"
    }
   ],
   "source": [
    "#preprocessing labels\n",
    "train_labels"
   ]
  },
  {
   "cell_type": "code",
   "execution_count": 16,
   "metadata": {},
   "outputs": [
    {
     "data": {
      "text/plain": [
       "{'NORMAL': 0, 'PNEUMONIA': 1}"
      ]
     },
     "execution_count": 16,
     "metadata": {},
     "output_type": "execute_result"
    }
   ],
   "source": [
    "train_generator.class_indices"
   ]
  },
  {
   "cell_type": "code",
   "execution_count": 17,
   "metadata": {},
   "outputs": [],
   "source": [
    "train_label_final = np.reshape(train_labels[:,1], (5216,1))"
   ]
  },
  {
   "cell_type": "code",
   "execution_count": 18,
   "metadata": {},
   "outputs": [
    {
     "data": {
      "text/plain": [
       "(5216, 1)"
      ]
     },
     "execution_count": 18,
     "metadata": {},
     "output_type": "execute_result"
    }
   ],
   "source": [
    "np.shape(train_label_final)"
   ]
  },
  {
   "cell_type": "code",
   "execution_count": 19,
   "metadata": {},
   "outputs": [
    {
     "data": {
      "image/png": "[encoded data removed]",
      "text/plain": [
       "<PIL.Image.Image image mode=RGB size=64x64 at 0x7FCF71A58FD0>"
      ]
     },
     "execution_count": 19,
     "metadata": {},
     "output_type": "execute_result"
    }
   ],
   "source": [
    "array_to_img(train_images[0])"
   ]
  },
  {
   "cell_type": "code",
   "execution_count": 20,
   "metadata": {},
   "outputs": [
    {
     "data": {
      "text/plain": [
       "array([1.], dtype=float32)"
      ]
     },
     "execution_count": 20,
     "metadata": {},
     "output_type": "execute_result"
    }
   ],
   "source": [
    "# value 0 = normal, value 1 = pneumonia \n",
    "train_label_final[0]"
   ]
  },
  {
   "cell_type": "code",
   "execution_count": 21,
   "metadata": {},
   "outputs": [
    {
     "data": {
      "text/plain": [
       "(624, 1)"
      ]
     },
     "execution_count": 21,
     "metadata": {},
     "output_type": "execute_result"
    }
   ],
   "source": [
    "test_label_final = np.reshape(test_labels[:,1], (624,1))\n",
    "np.shape(test_label_final)"
   ]
  },
  {
   "cell_type": "code",
   "execution_count": 22,
   "metadata": {},
   "outputs": [
    {
     "data": {
      "text/plain": [
       "(16, 1)"
      ]
     },
     "execution_count": 22,
     "metadata": {},
     "output_type": "execute_result"
    }
   ],
   "source": [
    "val_label_final = np.reshape(val_labels[:,1], (16,1))\n",
    "np.shape(val_label_final)"
   ]
  },
  {
   "cell_type": "code",
   "execution_count": 23,
   "metadata": {
    "scrolled": false
   },
   "outputs": [
    {
     "data": {
      "image/png": "[encoded data removed]",
      "text/plain": [
       "<PIL.Image.Image image mode=RGB size=64x64 at 0x7FCF71A58880>"
      ]
     },
     "execution_count": 23,
     "metadata": {},
     "output_type": "execute_result"
    }
   ],
   "source": [
    "array_to_img(train_images[46])"
   ]
  },
  {
   "cell_type": "code",
   "execution_count": 25,
   "metadata": {},
   "outputs": [
    {
     "data": {
      "text/plain": [
       "array([0.], dtype=float32)"
      ]
     },
     "execution_count": 25,
     "metadata": {},
     "output_type": "execute_result"
    }
   ],
   "source": [
    "train_label_final[46]"
   ]
  },
  {
   "cell_type": "markdown",
   "metadata": {},
   "source": [
    "### Data Normalization"
   ]
  },
  {
   "cell_type": "code",
   "execution_count": 26,
   "metadata": {},
   "outputs": [],
   "source": [
    "#normalizing data\n",
    "train_image_final = train_unrow/255\n",
    "test_image_final = test_unrow/255\n",
    "val_image_final = val_unrow/255"
   ]
  },
  {
   "cell_type": "code",
   "execution_count": 27,
   "metadata": {},
   "outputs": [
    {
     "data": {
      "text/plain": [
       "(5216, 12288)"
      ]
     },
     "execution_count": 27,
     "metadata": {},
     "output_type": "execute_result"
    }
   ],
   "source": [
    "train_image_final.shape"
   ]
  },
  {
   "cell_type": "markdown",
   "metadata": {},
   "source": [
    "## Baseline model"
   ]
  },
  {
   "cell_type": "code",
   "execution_count": 28,
   "metadata": {},
   "outputs": [],
   "source": [
    "np.random.seed(123)\n",
    "base_model = models.Sequential()\n",
    "base_model.add(layers.Dense(2000, activation='relu', input_shape=(12288,)))\n",
    "base_model.add(layers.Dense(100, activation='relu'))\n",
    "base_model.add(layers.Dense(1, activation='softmax'))"
   ]
  },
  {
   "cell_type": "code",
   "execution_count": 29,
   "metadata": {},
   "outputs": [],
   "source": [
    "base_model.compile(loss='categorical_crossentropy', optimizer='sgd', metrics=['acc'])"
   ]
  },
  {
   "cell_type": "code",
   "execution_count": 30,
   "metadata": {},
   "outputs": [
    {
     "name": "stdout",
     "output_type": "stream",
     "text": [
      "Model: \"sequential\"\n",
      "_________________________________________________________________\n",
      "Layer (type)                 Output Shape              Param #   \n",
      "=================================================================\n",
      "dense (Dense)                (None, 2000)              24578000  \n",
      "_________________________________________________________________\n",
      "dense_1 (Dense)              (None, 100)               200100    \n",
      "_________________________________________________________________\n",
      "dense_2 (Dense)              (None, 1)                 101       \n",
      "=================================================================\n",
      "Total params: 24,778,201\n",
      "Trainable params: 24,778,201\n",
      "Non-trainable params: 0\n",
      "_________________________________________________________________\n"
     ]
    }
   ],
   "source": [
    "base_model.summary()"
   ]
  },
  {
   "cell_type": "code",
   "execution_count": 31,
   "metadata": {
    "scrolled": true
   },
   "outputs": [
    {
     "name": "stdout",
     "output_type": "stream",
     "text": [
      "Epoch 1/100\n",
      "82/82 [==============================] - 11s 134ms/step - loss: nan - acc: 0.3779 - val_loss: nan - val_acc: 0.5000\n",
      "Epoch 2/100\n",
      "82/82 [==============================] - 13s 162ms/step - loss: nan - acc: 0.2571 - val_loss: nan - val_acc: 0.5000\n",
      "Epoch 3/100\n",
      "82/82 [==============================] - 18s 216ms/step - loss: nan - acc: 0.2571 - val_loss: nan - val_acc: 0.5000\n",
      "Epoch 4/100\n",
      "82/82 [==============================] - 19s 235ms/step - loss: nan - acc: 0.2571 - val_loss: nan - val_acc: 0.5000\n",
      "Epoch 5/100\n",
      "82/82 [==============================] - 18s 224ms/step - loss: nan - acc: 0.2571 - val_loss: nan - val_acc: 0.5000\n",
      "Epoch 6/100\n",
      "82/82 [==============================] - 13s 154ms/step - loss: nan - acc: 0.2571 - val_loss: nan - val_acc: 0.5000\n",
      "Epoch 7/100\n",
      "82/82 [==============================] - 12s 145ms/step - loss: nan - acc: 0.2571 - val_loss: nan - val_acc: 0.5000\n",
      "Epoch 8/100\n",
      "82/82 [==============================] - 11s 133ms/step - loss: nan - acc: 0.2571 - val_loss: nan - val_acc: 0.5000\n",
      "Epoch 9/100\n",
      "82/82 [==============================] - 11s 136ms/step - loss: nan - acc: 0.2571 - val_loss: nan - val_acc: 0.5000\n",
      "Epoch 10/100\n",
      "82/82 [==============================] - 11s 132ms/step - loss: nan - acc: 0.2571 - val_loss: nan - val_acc: 0.5000\n",
      "Epoch 11/100\n",
      "82/82 [==============================] - 11s 131ms/step - loss: nan - acc: 0.2571 - val_loss: nan - val_acc: 0.5000\n",
      "Epoch 12/100\n",
      "82/82 [==============================] - 14s 170ms/step - loss: nan - acc: 0.2571 - val_loss: nan - val_acc: 0.5000\n",
      "Epoch 13/100\n",
      "82/82 [==============================] - 12s 149ms/step - loss: nan - acc: 0.2571 - val_loss: nan - val_acc: 0.5000\n",
      "Epoch 14/100\n",
      "82/82 [==============================] - 11s 136ms/step - loss: nan - acc: 0.2571 - val_loss: nan - val_acc: 0.5000\n",
      "Epoch 15/100\n",
      "82/82 [==============================] - 11s 128ms/step - loss: nan - acc: 0.2571 - val_loss: nan - val_acc: 0.5000\n",
      "Epoch 16/100\n",
      "82/82 [==============================] - 15s 178ms/step - loss: nan - acc: 0.2571 - val_loss: nan - val_acc: 0.5000\n",
      "Epoch 17/100\n",
      "82/82 [==============================] - 11s 138ms/step - loss: nan - acc: 0.2571 - val_loss: nan - val_acc: 0.5000\n",
      "Epoch 18/100\n",
      "82/82 [==============================] - 12s 152ms/step - loss: nan - acc: 0.2571 - val_loss: nan - val_acc: 0.5000\n",
      "Epoch 19/100\n",
      "82/82 [==============================] - 12s 148ms/step - loss: nan - acc: 0.2571 - val_loss: nan - val_acc: 0.5000\n",
      "Epoch 20/100\n",
      "82/82 [==============================] - 15s 185ms/step - loss: nan - acc: 0.2571 - val_loss: nan - val_acc: 0.5000\n",
      "Epoch 21/100\n",
      "82/82 [==============================] - 12s 146ms/step - loss: nan - acc: 0.2571 - val_loss: nan - val_acc: 0.5000\n",
      "Epoch 22/100\n",
      "82/82 [==============================] - 12s 152ms/step - loss: nan - acc: 0.2571 - val_loss: nan - val_acc: 0.5000\n",
      "Epoch 23/100\n",
      "82/82 [==============================] - 12s 143ms/step - loss: nan - acc: 0.2571 - val_loss: nan - val_acc: 0.5000\n",
      "Epoch 24/100\n",
      "82/82 [==============================] - 13s 156ms/step - loss: nan - acc: 0.2571 - val_loss: nan - val_acc: 0.5000\n",
      "Epoch 25/100\n",
      "82/82 [==============================] - 12s 148ms/step - loss: nan - acc: 0.2571 - val_loss: nan - val_acc: 0.5000\n",
      "Epoch 26/100\n",
      "82/82 [==============================] - 13s 163ms/step - loss: nan - acc: 0.2571 - val_loss: nan - val_acc: 0.5000\n",
      "Epoch 27/100\n",
      "82/82 [==============================] - 13s 156ms/step - loss: nan - acc: 0.2571 - val_loss: nan - val_acc: 0.5000\n",
      "Epoch 28/100\n",
      "82/82 [==============================] - 12s 143ms/step - loss: nan - acc: 0.2571 - val_loss: nan - val_acc: 0.5000\n",
      "Epoch 29/100\n",
      "82/82 [==============================] - 12s 142ms/step - loss: nan - acc: 0.2571 - val_loss: nan - val_acc: 0.5000\n",
      "Epoch 30/100\n",
      "82/82 [==============================] - 13s 163ms/step - loss: nan - acc: 0.2571 - val_loss: nan - val_acc: 0.5000\n",
      "Epoch 31/100\n",
      "82/82 [==============================] - 11s 136ms/step - loss: nan - acc: 0.2571 - val_loss: nan - val_acc: 0.5000\n",
      "Epoch 32/100\n",
      "82/82 [==============================] - 13s 162ms/step - loss: nan - acc: 0.2571 - val_loss: nan - val_acc: 0.5000\n",
      "Epoch 33/100\n",
      "82/82 [==============================] - 11s 136ms/step - loss: nan - acc: 0.2571 - val_loss: nan - val_acc: 0.5000\n",
      "Epoch 34/100\n",
      "82/82 [==============================] - 11s 138ms/step - loss: nan - acc: 0.2571 - val_loss: nan - val_acc: 0.5000\n",
      "Epoch 35/100\n",
      "82/82 [==============================] - 12s 143ms/step - loss: nan - acc: 0.2571 - val_loss: nan - val_acc: 0.5000\n",
      "Epoch 36/100\n",
      "82/82 [==============================] - 12s 144ms/step - loss: nan - acc: 0.2571 - val_loss: nan - val_acc: 0.5000\n",
      "Epoch 37/100\n",
      "82/82 [==============================] - 15s 180ms/step - loss: nan - acc: 0.2571 - val_loss: nan - val_acc: 0.5000\n",
      "Epoch 38/100\n",
      "82/82 [==============================] - 12s 148ms/step - loss: nan - acc: 0.2571 - val_loss: nan - val_acc: 0.5000\n",
      "Epoch 39/100\n",
      "82/82 [==============================] - 12s 144ms/step - loss: nan - acc: 0.2571 - val_loss: nan - val_acc: 0.5000\n",
      "Epoch 40/100\n",
      "82/82 [==============================] - 14s 170ms/step - loss: nan - acc: 0.2571 - val_loss: nan - val_acc: 0.5000\n",
      "Epoch 41/100\n",
      "82/82 [==============================] - 12s 148ms/step - loss: nan - acc: 0.2571 - val_loss: nan - val_acc: 0.5000\n",
      "Epoch 42/100\n",
      "82/82 [==============================] - 12s 152ms/step - loss: nan - acc: 0.2571 - val_loss: nan - val_acc: 0.5000\n",
      "Epoch 43/100\n",
      "82/82 [==============================] - 13s 159ms/step - loss: nan - acc: 0.2571 - val_loss: nan - val_acc: 0.5000\n",
      "Epoch 44/100\n",
      "82/82 [==============================] - 11s 139ms/step - loss: nan - acc: 0.2571 - val_loss: nan - val_acc: 0.5000\n",
      "Epoch 45/100\n",
      "82/82 [==============================] - 15s 185ms/step - loss: nan - acc: 0.2571 - val_loss: nan - val_acc: 0.5000\n",
      "Epoch 46/100\n",
      "82/82 [==============================] - 13s 161ms/step - loss: nan - acc: 0.2571 - val_loss: nan - val_acc: 0.5000\n",
      "Epoch 47/100\n",
      "82/82 [==============================] - 12s 149ms/step - loss: nan - acc: 0.2571 - val_loss: nan - val_acc: 0.5000\n",
      "Epoch 48/100\n",
      "82/82 [==============================] - 13s 156ms/step - loss: nan - acc: 0.2571 - val_loss: nan - val_acc: 0.5000\n",
      "Epoch 49/100\n",
      "82/82 [==============================] - 13s 153ms/step - loss: nan - acc: 0.2571 - val_loss: nan - val_acc: 0.5000\n",
      "Epoch 50/100\n",
      "82/82 [==============================] - 12s 143ms/step - loss: nan - acc: 0.2571 - val_loss: nan - val_acc: 0.5000\n",
      "Epoch 51/100\n",
      "82/82 [==============================] - 13s 156ms/step - loss: nan - acc: 0.2571 - val_loss: nan - val_acc: 0.5000\n",
      "Epoch 52/100\n",
      "82/82 [==============================] - 13s 155ms/step - loss: nan - acc: 0.2571 - val_loss: nan - val_acc: 0.5000\n",
      "Epoch 53/100\n",
      "82/82 [==============================] - 12s 150ms/step - loss: nan - acc: 0.2571 - val_loss: nan - val_acc: 0.5000\n",
      "Epoch 54/100\n",
      "82/82 [==============================] - 15s 180ms/step - loss: nan - acc: 0.2571 - val_loss: nan - val_acc: 0.5000\n",
      "Epoch 55/100\n",
      "82/82 [==============================] - 12s 150ms/step - loss: nan - acc: 0.2571 - val_loss: nan - val_acc: 0.5000\n",
      "Epoch 56/100\n",
      "82/82 [==============================] - 13s 161ms/step - loss: nan - acc: 0.2571 - val_loss: nan - val_acc: 0.5000\n",
      "Epoch 57/100\n",
      "82/82 [==============================] - 12s 149ms/step - loss: nan - acc: 0.2571 - val_loss: nan - val_acc: 0.5000\n",
      "Epoch 58/100\n",
      "82/82 [==============================] - 15s 179ms/step - loss: nan - acc: 0.2571 - val_loss: nan - val_acc: 0.5000\n",
      "Epoch 59/100\n",
      "82/82 [==============================] - 13s 153ms/step - loss: nan - acc: 0.2571 - val_loss: nan - val_acc: 0.5000\n",
      "Epoch 60/100\n",
      "82/82 [==============================] - 13s 159ms/step - loss: nan - acc: 0.2571 - val_loss: nan - val_acc: 0.5000\n",
      "Epoch 61/100\n",
      "82/82 [==============================] - 12s 147ms/step - loss: nan - acc: 0.2571 - val_loss: nan - val_acc: 0.5000\n",
      "Epoch 62/100\n",
      "82/82 [==============================] - 12s 147ms/step - loss: nan - acc: 0.2571 - val_loss: nan - val_acc: 0.5000\n",
      "Epoch 63/100\n",
      "82/82 [==============================] - 16s 197ms/step - loss: nan - acc: 0.2571 - val_loss: nan - val_acc: 0.5000\n",
      "Epoch 64/100\n"
     ]
    },
    {
     "name": "stdout",
     "output_type": "stream",
     "text": [
      "82/82 [==============================] - 13s 153ms/step - loss: nan - acc: 0.2571 - val_loss: nan - val_acc: 0.5000\n",
      "Epoch 65/100\n",
      "82/82 [==============================] - 12s 142ms/step - loss: nan - acc: 0.2571 - val_loss: nan - val_acc: 0.5000\n",
      "Epoch 66/100\n",
      "82/82 [==============================] - 14s 175ms/step - loss: nan - acc: 0.2571 - val_loss: nan - val_acc: 0.5000\n",
      "Epoch 67/100\n",
      "82/82 [==============================] - 13s 157ms/step - loss: nan - acc: 0.2571 - val_loss: nan - val_acc: 0.5000\n",
      "Epoch 68/100\n",
      "82/82 [==============================] - 14s 173ms/step - loss: nan - acc: 0.2571 - val_loss: nan - val_acc: 0.5000\n",
      "Epoch 69/100\n",
      "82/82 [==============================] - 11s 137ms/step - loss: nan - acc: 0.2571 - val_loss: nan - val_acc: 0.5000\n",
      "Epoch 70/100\n",
      "82/82 [==============================] - 12s 140ms/step - loss: nan - acc: 0.2571 - val_loss: nan - val_acc: 0.5000\n",
      "Epoch 71/100\n",
      "82/82 [==============================] - 12s 150ms/step - loss: nan - acc: 0.2571 - val_loss: nan - val_acc: 0.5000\n",
      "Epoch 72/100\n",
      "82/82 [==============================] - 11s 133ms/step - loss: nan - acc: 0.2571 - val_loss: nan - val_acc: 0.5000\n",
      "Epoch 73/100\n",
      "82/82 [==============================] - 13s 153ms/step - loss: nan - acc: 0.2571 - val_loss: nan - val_acc: 0.5000\n",
      "Epoch 74/100\n",
      "82/82 [==============================] - 14s 166ms/step - loss: nan - acc: 0.2571 - val_loss: nan - val_acc: 0.5000\n",
      "Epoch 75/100\n",
      "82/82 [==============================] - 15s 185ms/step - loss: nan - acc: 0.2571 - val_loss: nan - val_acc: 0.5000\n",
      "Epoch 76/100\n",
      "82/82 [==============================] - 15s 179ms/step - loss: nan - acc: 0.2571 - val_loss: nan - val_acc: 0.5000\n",
      "Epoch 77/100\n",
      "82/82 [==============================] - 12s 147ms/step - loss: nan - acc: 0.2571 - val_loss: nan - val_acc: 0.5000\n",
      "Epoch 78/100\n",
      "82/82 [==============================] - 10s 128ms/step - loss: nan - acc: 0.2571 - val_loss: nan - val_acc: 0.5000\n",
      "Epoch 79/100\n",
      "82/82 [==============================] - 10s 126ms/step - loss: nan - acc: 0.2571 - val_loss: nan - val_acc: 0.5000\n",
      "Epoch 80/100\n",
      "82/82 [==============================] - 11s 130ms/step - loss: nan - acc: 0.2571 - val_loss: nan - val_acc: 0.5000\n",
      "Epoch 81/100\n",
      "82/82 [==============================] - 11s 138ms/step - loss: nan - acc: 0.2571 - val_loss: nan - val_acc: 0.5000\n",
      "Epoch 82/100\n",
      "82/82 [==============================] - 12s 149ms/step - loss: nan - acc: 0.2571 - val_loss: nan - val_acc: 0.5000\n",
      "Epoch 83/100\n",
      "82/82 [==============================] - 15s 184ms/step - loss: nan - acc: 0.2571 - val_loss: nan - val_acc: 0.5000\n",
      "Epoch 84/100\n",
      "82/82 [==============================] - 15s 180ms/step - loss: nan - acc: 0.2571 - val_loss: nan - val_acc: 0.5000\n",
      "Epoch 85/100\n",
      "82/82 [==============================] - 14s 167ms/step - loss: nan - acc: 0.2571 - val_loss: nan - val_acc: 0.5000\n",
      "Epoch 86/100\n",
      "82/82 [==============================] - 12s 145ms/step - loss: nan - acc: 0.2571 - val_loss: nan - val_acc: 0.5000\n",
      "Epoch 87/100\n",
      "82/82 [==============================] - 13s 161ms/step - loss: nan - acc: 0.2571 - val_loss: nan - val_acc: 0.5000\n",
      "Epoch 88/100\n",
      "82/82 [==============================] - 12s 149ms/step - loss: nan - acc: 0.2571 - val_loss: nan - val_acc: 0.5000\n",
      "Epoch 89/100\n",
      "82/82 [==============================] - 15s 182ms/step - loss: nan - acc: 0.2571 - val_loss: nan - val_acc: 0.5000\n",
      "Epoch 90/100\n",
      "82/82 [==============================] - 12s 141ms/step - loss: nan - acc: 0.2571 - val_loss: nan - val_acc: 0.5000\n",
      "Epoch 91/100\n",
      "82/82 [==============================] - 11s 135ms/step - loss: nan - acc: 0.2571 - val_loss: nan - val_acc: 0.5000\n",
      "Epoch 92/100\n",
      "82/82 [==============================] - 11s 131ms/step - loss: nan - acc: 0.2571 - val_loss: nan - val_acc: 0.5000\n",
      "Epoch 93/100\n",
      "82/82 [==============================] - 11s 132ms/step - loss: nan - acc: 0.2571 - val_loss: nan - val_acc: 0.5000\n",
      "Epoch 94/100\n",
      "82/82 [==============================] - 11s 134ms/step - loss: nan - acc: 0.2571 - val_loss: nan - val_acc: 0.5000\n",
      "Epoch 95/100\n",
      "82/82 [==============================] - 11s 134ms/step - loss: nan - acc: 0.2571 - val_loss: nan - val_acc: 0.5000\n",
      "Epoch 96/100\n",
      "82/82 [==============================] - 11s 134ms/step - loss: nan - acc: 0.2571 - val_loss: nan - val_acc: 0.5000\n",
      "Epoch 97/100\n",
      "82/82 [==============================] - 11s 133ms/step - loss: nan - acc: 0.2571 - val_loss: nan - val_acc: 0.5000\n",
      "Epoch 98/100\n",
      "82/82 [==============================] - 11s 132ms/step - loss: nan - acc: 0.2571 - val_loss: nan - val_acc: 0.5000\n",
      "Epoch 99/100\n",
      "82/82 [==============================] - 11s 129ms/step - loss: nan - acc: 0.2571 - val_loss: nan - val_acc: 0.5000\n",
      "Epoch 100/100\n",
      "82/82 [==============================] - 11s 130ms/step - loss: nan - acc: 0.2571 - val_loss: nan - val_acc: 0.5000\n"
     ]
    }
   ],
   "source": [
    "base_results = base_model.fit(train_image_final, train_label_final, epochs=100, \n",
    "                              batch_size=64, validation_data=(val_image_final, val_label_final))"
   ]
  },
  {
   "cell_type": "code",
   "execution_count": 32,
   "metadata": {},
   "outputs": [],
   "source": [
    "def visualize_training_results(results):\n",
    "    history = results.history\n",
    "    plt.figure()\n",
    "    plt.plot(history['val_loss'])\n",
    "    plt.plot(history['loss'])\n",
    "    plt.legend(['val_loss', 'loss'])\n",
    "    plt.title('Loss')\n",
    "    plt.xlabel('Epochs')\n",
    "    plt.ylabel('Loss')\n",
    "    plt.show()\n",
    "    \n",
    "    plt.figure()\n",
    "    plt.plot(history['val_acc'])\n",
    "    plt.plot(history['acc'])\n",
    "    plt.legend(['val_acc', 'acc'])\n",
    "    plt.title('Accuracy')\n",
    "    plt.xlabel('Epochs')\n",
    "    plt.ylabel('Accuracy')\n",
    "    plt.show()"
   ]
  },
  {
   "cell_type": "code",
   "execution_count": 33,
   "metadata": {
    "scrolled": false
   },
   "outputs": [
    {
     "data": {
      "image/png": "[encoded data removed]",
      "text/plain": [
       "<Figure size 432x288 with 1 Axes>"
      ]
     },
     "metadata": {
      "needs_background": "light"
     },
     "output_type": "display_data"
    },
    {
     "data": {
      "image/png": "[encoded data removed]",
      "text/plain": [
       "<Figure size 432x288 with 1 Axes>"
      ]
     },
     "metadata": {
      "needs_background": "light"
     },
     "output_type": "display_data"
    }
   ],
   "source": [
    "visualize_training_results(base_results)"
   ]
  },
  {
   "cell_type": "markdown",
   "metadata": {},
   "source": [
    "**analysis:** need to raise # of epochs, maybe change activation ftn and potentially add another layer in next iteration - shows underfitting"
   ]
  },
  {
   "cell_type": "markdown",
   "metadata": {},
   "source": [
    "## CNN #1"
   ]
  },
  {
   "cell_type": "code",
   "execution_count": 224,
   "metadata": {},
   "outputs": [
    {
     "name": "stdout",
     "output_type": "stream",
     "text": [
      "Model: \"sequential_29\"\n",
      "_________________________________________________________________\n",
      "Layer (type)                 Output Shape              Param #   \n",
      "=================================================================\n",
      "conv2d_13 (Conv2D)           (None, 62, 62, 32)        896       \n",
      "_________________________________________________________________\n",
      "max_pooling2d_11 (MaxPooling (None, 31, 31, 32)        0         \n",
      "_________________________________________________________________\n",
      "conv2d_14 (Conv2D)           (None, 29, 29, 64)        18496     \n",
      "_________________________________________________________________\n",
      "max_pooling2d_12 (MaxPooling (None, 14, 14, 64)        0         \n",
      "_________________________________________________________________\n",
      "conv2d_15 (Conv2D)           (None, 12, 12, 64)        36928     \n",
      "_________________________________________________________________\n",
      "flatten_5 (Flatten)          (None, 9216)              0         \n",
      "_________________________________________________________________\n",
      "dense_39 (Dense)             (None, 64)                589888    \n",
      "_________________________________________________________________\n",
      "dense_40 (Dense)             (None, 1)                 65        \n",
      "=================================================================\n",
      "Total params: 646,273\n",
      "Trainable params: 646,273\n",
      "Non-trainable params: 0\n",
      "_________________________________________________________________\n"
     ]
    }
   ],
   "source": [
    "model = models.Sequential()\n",
    "model.add(layers.Conv2D(32, (3,3), activation='relu',\n",
    "                        input_shape=(64,64,3)))\n",
    "model.add(layers.MaxPooling2D((2, 2)))\n",
    "model.add(layers.Conv2D(64, (3, 3), activation='relu'))\n",
    "model.add(layers.MaxPooling2D((2, 2)))\n",
    "model.add(layers.Conv2D(64, (3, 3), activation='relu'))\n",
    "\n",
    "model.add(layers.Flatten())\n",
    "model.add(layers.Dense(64, activation='relu'))\n",
    "model.add(layers.Dense(1, activation='sigmoid'))\n",
    "\n",
    "model.summary()"
   ]
  },
  {
   "cell_type": "code",
   "execution_count": 225,
   "metadata": {},
   "outputs": [],
   "source": [
    "model.compile(loss='binary_crossentropy',\n",
    "              optimizer=\"adam\",\n",
    "              metrics=['acc'])"
   ]
  },
  {
   "cell_type": "code",
   "execution_count": 226,
   "metadata": {},
   "outputs": [
    {
     "name": "stdout",
     "output_type": "stream",
     "text": [
      "Epoch 1/100\n",
      "163/163 [==============================] - 42s 258ms/step - loss: 3.4283 - acc: 0.8875 - val_loss: 1.1044 - val_acc: 0.6250\n",
      "Epoch 2/100\n",
      "163/163 [==============================] - 35s 214ms/step - loss: 0.1410 - acc: 0.9482 - val_loss: 0.2006 - val_acc: 1.0000\n",
      "Epoch 3/100\n",
      "163/163 [==============================] - 34s 210ms/step - loss: 0.1085 - acc: 0.9599 - val_loss: 0.1795 - val_acc: 1.0000\n",
      "Epoch 4/100\n",
      "163/163 [==============================] - 37s 227ms/step - loss: 0.0939 - acc: 0.9647 - val_loss: 0.3648 - val_acc: 0.7500\n",
      "Epoch 5/100\n",
      "163/163 [==============================] - 40s 246ms/step - loss: 0.0887 - acc: 0.9674 - val_loss: 0.1992 - val_acc: 0.8750\n",
      "Epoch 6/100\n",
      "163/163 [==============================] - 39s 236ms/step - loss: 0.0815 - acc: 0.9688 - val_loss: 0.2995 - val_acc: 0.8125\n",
      "Epoch 7/100\n",
      "163/163 [==============================] - 42s 260ms/step - loss: 0.0696 - acc: 0.9728 - val_loss: 0.4526 - val_acc: 0.7500\n",
      "Epoch 8/100\n",
      "163/163 [==============================] - 45s 276ms/step - loss: 0.0624 - acc: 0.9764 - val_loss: 0.2582 - val_acc: 0.8750\n",
      "Epoch 9/100\n",
      "163/163 [==============================] - 35s 212ms/step - loss: 0.0578 - acc: 0.9793 - val_loss: 0.3406 - val_acc: 0.8125\n",
      "Epoch 10/100\n",
      "163/163 [==============================] - 38s 233ms/step - loss: 0.0507 - acc: 0.9793 - val_loss: 0.5162 - val_acc: 0.8125\n",
      "Epoch 11/100\n",
      "163/163 [==============================] - 32s 193ms/step - loss: 0.0427 - acc: 0.9831 - val_loss: 0.1840 - val_acc: 0.9375\n",
      "Epoch 12/100\n",
      "163/163 [==============================] - 37s 230ms/step - loss: 0.0406 - acc: 0.9847 - val_loss: 0.3755 - val_acc: 0.8750\n",
      "Epoch 13/100\n",
      "163/163 [==============================] - 35s 215ms/step - loss: 0.0467 - acc: 0.9822 - val_loss: 1.0015 - val_acc: 0.7500\n",
      "Epoch 14/100\n",
      "163/163 [==============================] - 32s 194ms/step - loss: 0.0412 - acc: 0.9847 - val_loss: 0.2747 - val_acc: 0.8750\n",
      "Epoch 15/100\n",
      "163/163 [==============================] - 33s 200ms/step - loss: 0.0401 - acc: 0.9858 - val_loss: 0.4226 - val_acc: 0.8125\n",
      "Epoch 16/100\n",
      "163/163 [==============================] - 34s 211ms/step - loss: 0.0489 - acc: 0.9803 - val_loss: 0.2498 - val_acc: 0.8750\n",
      "Epoch 17/100\n",
      "163/163 [==============================] - 36s 222ms/step - loss: 0.0312 - acc: 0.9889 - val_loss: 0.2467 - val_acc: 0.8750\n",
      "Epoch 18/100\n",
      "163/163 [==============================] - 33s 204ms/step - loss: 0.0281 - acc: 0.9908 - val_loss: 0.7191 - val_acc: 0.8750\n",
      "Epoch 19/100\n",
      "163/163 [==============================] - 33s 204ms/step - loss: 0.0244 - acc: 0.9898 - val_loss: 0.3772 - val_acc: 0.9375\n",
      "Epoch 20/100\n",
      "163/163 [==============================] - 33s 205ms/step - loss: 0.0092 - acc: 0.9969 - val_loss: 0.3421 - val_acc: 0.9375\n",
      "Epoch 21/100\n",
      "163/163 [==============================] - 37s 230ms/step - loss: 0.0105 - acc: 0.9971 - val_loss: 0.8594 - val_acc: 0.7500\n",
      "Epoch 22/100\n",
      "163/163 [==============================] - 38s 236ms/step - loss: 0.0264 - acc: 0.9895 - val_loss: 0.0800 - val_acc: 1.0000\n",
      "Epoch 23/100\n",
      "163/163 [==============================] - 36s 222ms/step - loss: 0.0386 - acc: 0.9854 - val_loss: 0.6222 - val_acc: 0.8125\n",
      "Epoch 24/100\n",
      "163/163 [==============================] - 40s 244ms/step - loss: 0.0248 - acc: 0.9912 - val_loss: 0.1960 - val_acc: 0.9375\n",
      "Epoch 25/100\n",
      "163/163 [==============================] - 48s 294ms/step - loss: 0.0233 - acc: 0.9912 - val_loss: 0.0527 - val_acc: 0.9375\n",
      "Epoch 26/100\n",
      "163/163 [==============================] - 65s 402ms/step - loss: 0.0113 - acc: 0.9960 - val_loss: 0.3267 - val_acc: 0.9375\n",
      "Epoch 27/100\n",
      "163/163 [==============================] - 42s 261ms/step - loss: 0.0146 - acc: 0.9950 - val_loss: 0.3371 - val_acc: 0.9375\n",
      "Epoch 28/100\n",
      "163/163 [==============================] - 35s 216ms/step - loss: 0.0122 - acc: 0.9960 - val_loss: 0.4735 - val_acc: 0.8750\n",
      "Epoch 29/100\n",
      "163/163 [==============================] - 43s 265ms/step - loss: 0.0075 - acc: 0.9977 - val_loss: 1.0106 - val_acc: 0.8125\n",
      "Epoch 30/100\n",
      "163/163 [==============================] - 42s 255ms/step - loss: 0.0021 - acc: 0.9998 - val_loss: 0.3270 - val_acc: 0.9375\n",
      "Epoch 31/100\n",
      "163/163 [==============================] - 52s 317ms/step - loss: 0.0012 - acc: 0.9998 - val_loss: 0.3617 - val_acc: 0.9375\n",
      "Epoch 32/100\n",
      "163/163 [==============================] - 38s 231ms/step - loss: 0.0574 - acc: 0.9806 - val_loss: 0.2643 - val_acc: 0.9375\n",
      "Epoch 33/100\n",
      "163/163 [==============================] - 43s 263ms/step - loss: 0.0328 - acc: 0.9873 - val_loss: 0.4571 - val_acc: 0.9375\n",
      "Epoch 34/100\n",
      "163/163 [==============================] - 36s 218ms/step - loss: 0.0155 - acc: 0.9941 - val_loss: 0.2803 - val_acc: 0.9375\n",
      "Epoch 35/100\n",
      "163/163 [==============================] - 46s 283ms/step - loss: 0.0130 - acc: 0.9956 - val_loss: 0.5114 - val_acc: 0.8750\n",
      "Epoch 36/100\n",
      "163/163 [==============================] - 51s 311ms/step - loss: 0.0084 - acc: 0.9973 - val_loss: 0.8486 - val_acc: 0.9375\n",
      "Epoch 37/100\n",
      "163/163 [==============================] - 47s 287ms/step - loss: 0.0192 - acc: 0.9939 - val_loss: 0.2693 - val_acc: 0.8750\n",
      "Epoch 38/100\n",
      "163/163 [==============================] - 42s 255ms/step - loss: 0.0251 - acc: 0.9896 - val_loss: 0.0875 - val_acc: 0.9375\n",
      "Epoch 39/100\n",
      "163/163 [==============================] - 27s 165ms/step - loss: 0.0221 - acc: 0.9925 - val_loss: 0.0665 - val_acc: 0.9375\n",
      "Epoch 40/100\n",
      "163/163 [==============================] - 23s 143ms/step - loss: 0.0135 - acc: 0.9958 - val_loss: 1.2783 - val_acc: 0.7500\n",
      "Epoch 41/100\n",
      "163/163 [==============================] - 22s 133ms/step - loss: 0.0100 - acc: 0.9964 - val_loss: 0.7404 - val_acc: 0.9375\n",
      "Epoch 42/100\n",
      "163/163 [==============================] - 24s 148ms/step - loss: 0.0259 - acc: 0.9918 - val_loss: 0.1854 - val_acc: 0.9375\n",
      "Epoch 43/100\n",
      "163/163 [==============================] - 26s 159ms/step - loss: 0.0148 - acc: 0.9941 - val_loss: 0.3244 - val_acc: 0.9375\n",
      "Epoch 44/100\n",
      "163/163 [==============================] - 26s 157ms/step - loss: 0.0024 - acc: 0.9992 - val_loss: 0.0452 - val_acc: 0.9375\n",
      "Epoch 45/100\n",
      "163/163 [==============================] - 23s 142ms/step - loss: 4.9561e-04 - acc: 1.0000 - val_loss: 0.3728 - val_acc: 0.9375\n",
      "Epoch 46/100\n",
      "163/163 [==============================] - 24s 147ms/step - loss: 0.0016 - acc: 0.9994 - val_loss: 0.4708 - val_acc: 0.8750\n",
      "Epoch 47/100\n",
      "163/163 [==============================] - 30s 182ms/step - loss: 0.0422 - acc: 0.9891 - val_loss: 1.2836 - val_acc: 0.8125\n",
      "Epoch 48/100\n",
      "163/163 [==============================] - 27s 163ms/step - loss: 0.0873 - acc: 0.9803 - val_loss: 0.2095 - val_acc: 0.9375\n",
      "Epoch 49/100\n",
      "163/163 [==============================] - 23s 142ms/step - loss: 0.0309 - acc: 0.9898 - val_loss: 0.3878 - val_acc: 0.9375\n",
      "Epoch 50/100\n",
      "163/163 [==============================] - 26s 158ms/step - loss: 0.0094 - acc: 0.9965 - val_loss: 0.5880 - val_acc: 0.9375\n",
      "Epoch 51/100\n",
      "163/163 [==============================] - 22s 135ms/step - loss: 0.0024 - acc: 0.9994 - val_loss: 0.5630 - val_acc: 0.9375\n",
      "Epoch 52/100\n",
      "163/163 [==============================] - 22s 135ms/step - loss: 0.0013 - acc: 0.9998 - val_loss: 0.9168 - val_acc: 0.9375\n",
      "Epoch 53/100\n",
      "163/163 [==============================] - 22s 135ms/step - loss: 1.6236e-04 - acc: 1.0000 - val_loss: 0.8034 - val_acc: 0.9375\n",
      "Epoch 54/100\n",
      "163/163 [==============================] - 23s 138ms/step - loss: 7.7980e-05 - acc: 1.0000 - val_loss: 0.8290 - val_acc: 0.9375\n",
      "Epoch 55/100\n",
      "163/163 [==============================] - 24s 146ms/step - loss: 5.4852e-05 - acc: 1.0000 - val_loss: 0.8344 - val_acc: 0.9375\n",
      "Epoch 56/100\n",
      "163/163 [==============================] - 22s 137ms/step - loss: 4.5141e-05 - acc: 1.0000 - val_loss: 0.8492 - val_acc: 0.9375\n",
      "Epoch 57/100\n",
      "163/163 [==============================] - 22s 133ms/step - loss: 3.6362e-05 - acc: 1.0000 - val_loss: 0.8560 - val_acc: 0.9375\n",
      "Epoch 58/100\n",
      "163/163 [==============================] - 21s 129ms/step - loss: 3.0398e-05 - acc: 1.0000 - val_loss: 0.8691 - val_acc: 0.9375\n",
      "Epoch 59/100\n",
      "163/163 [==============================] - 21s 130ms/step - loss: 2.6060e-05 - acc: 1.0000 - val_loss: 0.8832 - val_acc: 0.9375\n",
      "Epoch 60/100\n",
      "163/163 [==============================] - 20s 126ms/step - loss: 2.2837e-05 - acc: 1.0000 - val_loss: 0.8860 - val_acc: 0.9375\n",
      "Epoch 61/100\n",
      "163/163 [==============================] - 21s 126ms/step - loss: 2.0277e-05 - acc: 1.0000 - val_loss: 0.9081 - val_acc: 0.9375\n",
      "Epoch 62/100\n",
      "163/163 [==============================] - 21s 127ms/step - loss: 1.8088e-05 - acc: 1.0000 - val_loss: 0.9150 - val_acc: 0.9375\n",
      "Epoch 63/100\n",
      "163/163 [==============================] - 22s 132ms/step - loss: 1.6007e-05 - acc: 1.0000 - val_loss: 0.9131 - val_acc: 0.9375\n",
      "Epoch 64/100\n",
      "163/163 [==============================] - 22s 136ms/step - loss: 1.4595e-05 - acc: 1.0000 - val_loss: 0.9237 - val_acc: 0.9375\n",
      "Epoch 65/100\n",
      "163/163 [==============================] - 21s 130ms/step - loss: 1.2869e-05 - acc: 1.0000 - val_loss: 0.9551 - val_acc: 0.9375\n",
      "Epoch 66/100\n",
      "163/163 [==============================] - 24s 144ms/step - loss: 1.1780e-05 - acc: 1.0000 - val_loss: 0.9518 - val_acc: 0.9375\n",
      "Epoch 67/100\n",
      "163/163 [==============================] - 21s 130ms/step - loss: 1.0549e-05 - acc: 1.0000 - val_loss: 0.9703 - val_acc: 0.9375\n",
      "Epoch 68/100\n",
      "163/163 [==============================] - 21s 128ms/step - loss: 9.4666e-06 - acc: 1.0000 - val_loss: 0.9883 - val_acc: 0.9375\n",
      "Epoch 69/100\n",
      "163/163 [==============================] - 22s 133ms/step - loss: 8.8401e-06 - acc: 1.0000 - val_loss: 0.9870 - val_acc: 0.9375\n",
      "Epoch 70/100\n",
      "163/163 [==============================] - 21s 131ms/step - loss: 7.8160e-06 - acc: 1.0000 - val_loss: 0.9951 - val_acc: 0.9375\n",
      "Epoch 71/100\n",
      "163/163 [==============================] - 21s 131ms/step - loss: 7.0700e-06 - acc: 1.0000 - val_loss: 0.9866 - val_acc: 0.9375\n",
      "Epoch 72/100\n",
      "163/163 [==============================] - 21s 130ms/step - loss: 6.5496e-06 - acc: 1.0000 - val_loss: 1.0007 - val_acc: 0.9375\n",
      "Epoch 73/100\n",
      "163/163 [==============================] - 21s 128ms/step - loss: 5.8519e-06 - acc: 1.0000 - val_loss: 1.0036 - val_acc: 0.9375\n",
      "Epoch 74/100\n",
      "163/163 [==============================] - 21s 130ms/step - loss: 5.4365e-06 - acc: 1.0000 - val_loss: 1.0293 - val_acc: 0.9375\n",
      "Epoch 75/100\n",
      "163/163 [==============================] - 21s 131ms/step - loss: 4.9213e-06 - acc: 1.0000 - val_loss: 1.0438 - val_acc: 0.9375\n",
      "Epoch 76/100\n",
      "163/163 [==============================] - 21s 130ms/step - loss: 4.4601e-06 - acc: 1.0000 - val_loss: 1.0579 - val_acc: 0.9375\n",
      "Epoch 77/100\n",
      "163/163 [==============================] - 22s 134ms/step - loss: 4.0452e-06 - acc: 1.0000 - val_loss: 1.0655 - val_acc: 0.9375\n",
      "Epoch 78/100\n",
      "163/163 [==============================] - 21s 129ms/step - loss: 3.7390e-06 - acc: 1.0000 - val_loss: 1.0733 - val_acc: 0.9375\n",
      "Epoch 79/100\n",
      "163/163 [==============================] - 21s 129ms/step - loss: 3.4345e-06 - acc: 1.0000 - val_loss: 1.0778 - val_acc: 0.9375\n",
      "Epoch 80/100\n",
      "163/163 [==============================] - 21s 131ms/step - loss: 3.0806e-06 - acc: 1.0000 - val_loss: 1.0985 - val_acc: 0.9375\n",
      "Epoch 81/100\n",
      "163/163 [==============================] - 25s 152ms/step - loss: 2.7982e-06 - acc: 1.0000 - val_loss: 1.1159 - val_acc: 0.9375\n",
      "Epoch 82/100\n",
      "163/163 [==============================] - 26s 157ms/step - loss: 2.5730e-06 - acc: 1.0000 - val_loss: 1.1124 - val_acc: 0.9375\n",
      "Epoch 83/100\n",
      "163/163 [==============================] - 26s 160ms/step - loss: 2.3597e-06 - acc: 1.0000 - val_loss: 1.1288 - val_acc: 0.9375\n",
      "Epoch 84/100\n",
      "163/163 [==============================] - 26s 159ms/step - loss: 2.1261e-06 - acc: 1.0000 - val_loss: 1.1341 - val_acc: 0.9375\n",
      "Epoch 85/100\n",
      "163/163 [==============================] - 26s 159ms/step - loss: 1.9261e-06 - acc: 1.0000 - val_loss: 1.1542 - val_acc: 0.9375\n",
      "Epoch 86/100\n",
      "163/163 [==============================] - 26s 159ms/step - loss: 1.7692e-06 - acc: 1.0000 - val_loss: 1.1532 - val_acc: 0.9375\n",
      "Epoch 87/100\n",
      "163/163 [==============================] - 26s 157ms/step - loss: 1.5827e-06 - acc: 1.0000 - val_loss: 1.1853 - val_acc: 0.9375\n",
      "Epoch 88/100\n",
      "163/163 [==============================] - 24s 146ms/step - loss: 1.4725e-06 - acc: 1.0000 - val_loss: 1.1860 - val_acc: 0.9375\n",
      "Epoch 89/100\n",
      "163/163 [==============================] - 21s 129ms/step - loss: 1.3287e-06 - acc: 1.0000 - val_loss: 1.2030 - val_acc: 0.9375\n",
      "Epoch 90/100\n",
      "163/163 [==============================] - 22s 134ms/step - loss: 1.2127e-06 - acc: 1.0000 - val_loss: 1.2034 - val_acc: 0.9375\n",
      "Epoch 91/100\n",
      "163/163 [==============================] - 21s 130ms/step - loss: 1.0931e-06 - acc: 1.0000 - val_loss: 1.2123 - val_acc: 0.9375\n",
      "Epoch 92/100\n",
      "163/163 [==============================] - 21s 130ms/step - loss: 9.9940e-07 - acc: 1.0000 - val_loss: 1.2168 - val_acc: 0.9375\n",
      "Epoch 93/100\n",
      "163/163 [==============================] - 21s 132ms/step - loss: 9.1666e-07 - acc: 1.0000 - val_loss: 1.2279 - val_acc: 0.9375\n",
      "Epoch 94/100\n",
      "163/163 [==============================] - 21s 131ms/step - loss: 8.2972e-07 - acc: 1.0000 - val_loss: 1.2331 - val_acc: 0.9375\n",
      "Epoch 95/100\n",
      "163/163 [==============================] - 21s 131ms/step - loss: 7.6194e-07 - acc: 1.0000 - val_loss: 1.2489 - val_acc: 0.9375\n",
      "Epoch 96/100\n",
      "163/163 [==============================] - 22s 132ms/step - loss: 6.8126e-07 - acc: 1.0000 - val_loss: 1.2658 - val_acc: 0.9375\n",
      "Epoch 97/100\n",
      "163/163 [==============================] - 21s 129ms/step - loss: 6.1841e-07 - acc: 1.0000 - val_loss: 1.2994 - val_acc: 0.9375\n",
      "Epoch 98/100\n",
      "163/163 [==============================] - 22s 133ms/step - loss: 5.7504e-07 - acc: 1.0000 - val_loss: 1.2870 - val_acc: 0.9375\n",
      "Epoch 99/100\n",
      "163/163 [==============================] - 21s 131ms/step - loss: 5.1576e-07 - acc: 1.0000 - val_loss: 1.2991 - val_acc: 0.9375\n",
      "Epoch 100/100\n",
      "163/163 [==============================] - 22s 135ms/step - loss: 4.6934e-07 - acc: 1.0000 - val_loss: 1.3175 - val_acc: 0.9375\n"
     ]
    }
   ],
   "source": [
    "results_1 = model.fit(train_images,\n",
    "                    train_label_final,\n",
    "                    epochs=100,\n",
    "                    validation_data=(val_images, val_label_final))"
   ]
  },
  {
   "cell_type": "code",
   "execution_count": 227,
   "metadata": {
    "scrolled": false
   },
   "outputs": [
    {
     "data": {
      "image/png": "[encoded data removed]",
      "text/plain": [
       "<Figure size 432x288 with 1 Axes>"
      ]
     },
     "metadata": {
      "needs_background": "light"
     },
     "output_type": "display_data"
    },
    {
     "data": {
      "image/png": "[encoded data removed]",
      "text/plain": [
       "<Figure size 432x288 with 1 Axes>"
      ]
     },
     "metadata": {
      "needs_background": "light"
     },
     "output_type": "display_data"
    }
   ],
   "source": [
    "visualize_training_results(results_1)"
   ]
  },
  {
   "cell_type": "code",
   "execution_count": 229,
   "metadata": {},
   "outputs": [
    {
     "name": "stdout",
     "output_type": "stream",
     "text": [
      "163/163 [==============================] - 6s 38ms/step - loss: 4.2461e-07 - acc: 1.0000: 1s - los\n"
     ]
    },
    {
     "data": {
      "text/plain": [
       "[4.246057869750075e-07, 1.0]"
      ]
     },
     "execution_count": 229,
     "metadata": {},
     "output_type": "execute_result"
    }
   ],
   "source": [
    "results_1_train = model.evaluate(train_images, train_label_final)\n",
    "results_1_train"
   ]
  },
  {
   "cell_type": "code",
   "execution_count": 230,
   "metadata": {},
   "outputs": [
    {
     "name": "stdout",
     "output_type": "stream",
     "text": [
      "20/20 [==============================] - 1s 32ms/step - loss: 6.4779 - acc: 0.7468\n"
     ]
    },
    {
     "data": {
      "text/plain": [
       "[6.477949619293213, 0.7467948794364929]"
      ]
     },
     "execution_count": 230,
     "metadata": {},
     "output_type": "execute_result"
    }
   ],
   "source": [
    "results_1_test = model.evaluate(test_images, test_label_final)\n",
    "results_1_test"
   ]
  },
  {
   "cell_type": "markdown",
   "metadata": {},
   "source": [
    "**analysis:** model overall performance increased but shows signs of overfitting - need to resolve this is next iteration"
   ]
  },
  {
   "cell_type": "markdown",
   "metadata": {},
   "source": [
    "## CNN #2"
   ]
  },
  {
   "cell_type": "code",
   "execution_count": 47,
   "metadata": {},
   "outputs": [
    {
     "name": "stdout",
     "output_type": "stream",
     "text": [
      "Model: \"sequential_3\"\n",
      "_________________________________________________________________\n",
      "Layer (type)                 Output Shape              Param #   \n",
      "=================================================================\n",
      "conv2d_10 (Conv2D)           (None, 62, 62, 32)        896       \n",
      "_________________________________________________________________\n",
      "conv2d_11 (Conv2D)           (None, 60, 60, 32)        9248      \n",
      "_________________________________________________________________\n",
      "max_pooling2d_5 (MaxPooling2 (None, 30, 30, 32)        0         \n",
      "_________________________________________________________________\n",
      "conv2d_12 (Conv2D)           (None, 28, 28, 64)        18496     \n",
      "_________________________________________________________________\n",
      "conv2d_13 (Conv2D)           (None, 26, 26, 64)        36928     \n",
      "_________________________________________________________________\n",
      "max_pooling2d_6 (MaxPooling2 (None, 13, 13, 64)        0         \n",
      "_________________________________________________________________\n",
      "flatten_2 (Flatten)          (None, 10816)             0         \n",
      "_________________________________________________________________\n",
      "dense_7 (Dense)              (None, 128)               1384576   \n",
      "_________________________________________________________________\n",
      "dense_8 (Dense)              (None, 1)                 129       \n",
      "=================================================================\n",
      "Total params: 1,450,273\n",
      "Trainable params: 1,450,273\n",
      "Non-trainable params: 0\n",
      "_________________________________________________________________\n"
     ]
    }
   ],
   "source": [
    "#try VGG blocks \n",
    "model2 = models.Sequential()\n",
    "model2.add(layers.Conv2D(32, (3, 3), activation='relu', \n",
    "                         input_shape=(64, 64, 3)))\n",
    "model2.add(layers.Conv2D(32, (3, 3), activation='relu'))\n",
    "model2.add(layers.MaxPooling2D((2, 2)))\n",
    "model2.add(layers.Conv2D(64, (3, 3), activation='relu'))\n",
    "model2.add(layers.Conv2D(64, (3, 3), activation='relu'))\n",
    "model2.add(layers.MaxPooling2D((2, 2)))\n",
    "model2.add(layers.Flatten())\n",
    "model2.add(layers.Dense(128, activation='relu'))\n",
    "model2.add(layers.Dense(1, activation='sigmoid'))\n",
    "\n",
    "model2.summary()"
   ]
  },
  {
   "cell_type": "code",
   "execution_count": 48,
   "metadata": {},
   "outputs": [],
   "source": [
    "model2.compile(loss='binary_crossentropy', optimizer='adam', metrics=['acc'])"
   ]
  },
  {
   "cell_type": "code",
   "execution_count": 49,
   "metadata": {},
   "outputs": [
    {
     "name": "stdout",
     "output_type": "stream",
     "text": [
      "Epoch 1/100\n",
      "163/163 [==============================] - 63s 388ms/step - loss: 1.4288 - acc: 0.8961 - val_loss: 0.1686 - val_acc: 0.9375\n",
      "Epoch 2/100\n",
      "163/163 [==============================] - 63s 386ms/step - loss: 0.1174 - acc: 0.9544 - val_loss: 0.3159 - val_acc: 0.8750\n",
      "Epoch 3/100\n",
      "163/163 [==============================] - 56s 342ms/step - loss: 0.0888 - acc: 0.9682 - val_loss: 0.0921 - val_acc: 1.0000\n",
      "Epoch 4/100\n",
      "163/163 [==============================] - 54s 330ms/step - loss: 0.0957 - acc: 0.9647 - val_loss: 0.2823 - val_acc: 0.9375\n",
      "Epoch 5/100\n",
      "163/163 [==============================] - 53s 323ms/step - loss: 0.0618 - acc: 0.9785 - val_loss: 0.4870 - val_acc: 0.8125\n",
      "Epoch 6/100\n",
      "163/163 [==============================] - 55s 336ms/step - loss: 0.0657 - acc: 0.9745 - val_loss: 0.2943 - val_acc: 0.9375\n",
      "Epoch 7/100\n",
      "163/163 [==============================] - 55s 335ms/step - loss: 0.0489 - acc: 0.9826 - val_loss: 0.4107 - val_acc: 0.8750\n",
      "Epoch 8/100\n",
      "163/163 [==============================] - 54s 333ms/step - loss: 0.0464 - acc: 0.9808 - val_loss: 0.3334 - val_acc: 0.8750\n",
      "Epoch 9/100\n",
      "163/163 [==============================] - 54s 334ms/step - loss: 0.0342 - acc: 0.9870 - val_loss: 0.6591 - val_acc: 0.8750\n",
      "Epoch 10/100\n",
      "163/163 [==============================] - 53s 326ms/step - loss: 0.0316 - acc: 0.9879 - val_loss: 0.3576 - val_acc: 0.8750\n",
      "Epoch 11/100\n",
      "163/163 [==============================] - 55s 340ms/step - loss: 0.0365 - acc: 0.9860 - val_loss: 0.2023 - val_acc: 0.9375\n",
      "Epoch 12/100\n",
      "163/163 [==============================] - 53s 328ms/step - loss: 0.0222 - acc: 0.9914 - val_loss: 0.4796 - val_acc: 0.8750\n",
      "Epoch 13/100\n",
      "163/163 [==============================] - 54s 331ms/step - loss: 0.0153 - acc: 0.9944 - val_loss: 0.6460 - val_acc: 0.8750\n",
      "Epoch 14/100\n",
      "163/163 [==============================] - 58s 354ms/step - loss: 0.0406 - acc: 0.9868 - val_loss: 0.2829 - val_acc: 0.8750\n",
      "Epoch 15/100\n",
      "163/163 [==============================] - 54s 332ms/step - loss: 0.0759 - acc: 0.9735 - val_loss: 0.2351 - val_acc: 0.8750\n",
      "Epoch 16/100\n",
      "163/163 [==============================] - 55s 339ms/step - loss: 0.0201 - acc: 0.9919 - val_loss: 0.7743 - val_acc: 0.8125\n",
      "Epoch 17/100\n",
      "163/163 [==============================] - 54s 332ms/step - loss: 0.0149 - acc: 0.9944 - val_loss: 0.2317 - val_acc: 0.8750\n",
      "Epoch 18/100\n",
      "163/163 [==============================] - 54s 334ms/step - loss: 0.0085 - acc: 0.9973 - val_loss: 0.4456 - val_acc: 0.9375\n",
      "Epoch 19/100\n",
      "163/163 [==============================] - 52s 320ms/step - loss: 0.0055 - acc: 0.9979 - val_loss: 0.6177 - val_acc: 0.8750\n",
      "Epoch 20/100\n",
      "163/163 [==============================] - 52s 319ms/step - loss: 0.0066 - acc: 0.9975 - val_loss: 0.7047 - val_acc: 0.8125\n",
      "Epoch 21/100\n",
      "163/163 [==============================] - 52s 322ms/step - loss: 0.0611 - acc: 0.9824 - val_loss: 0.2290 - val_acc: 0.8750\n",
      "Epoch 22/100\n",
      "163/163 [==============================] - 53s 324ms/step - loss: 0.0700 - acc: 0.9737 - val_loss: 0.3343 - val_acc: 0.8750\n",
      "Epoch 23/100\n",
      "163/163 [==============================] - 52s 322ms/step - loss: 0.0160 - acc: 0.9946 - val_loss: 0.4851 - val_acc: 0.7500\n",
      "Epoch 24/100\n",
      "163/163 [==============================] - 52s 319ms/step - loss: 0.0023 - acc: 0.9992 - val_loss: 0.1593 - val_acc: 0.9375\n",
      "Epoch 25/100\n",
      "163/163 [==============================] - 52s 318ms/step - loss: 0.0015 - acc: 0.9998 - val_loss: 0.3818 - val_acc: 0.9375\n",
      "Epoch 26/100\n",
      "163/163 [==============================] - 52s 316ms/step - loss: 1.8824e-04 - acc: 1.0000 - val_loss: 0.5411 - val_acc: 0.8750\n",
      "Epoch 27/100\n",
      "163/163 [==============================] - 52s 319ms/step - loss: 1.4647e-04 - acc: 1.0000 - val_loss: 0.4097 - val_acc: 0.9375\n",
      "Epoch 28/100\n",
      "163/163 [==============================] - 52s 321ms/step - loss: 5.8348e-05 - acc: 1.0000 - val_loss: 0.4364 - val_acc: 0.9375\n",
      "Epoch 29/100\n",
      "163/163 [==============================] - 52s 319ms/step - loss: 3.9074e-05 - acc: 1.0000 - val_loss: 0.4403 - val_acc: 0.9375\n",
      "Epoch 30/100\n",
      "163/163 [==============================] - 53s 325ms/step - loss: 2.9568e-05 - acc: 1.0000 - val_loss: 0.4517 - val_acc: 0.9375\n",
      "Epoch 31/100\n",
      "163/163 [==============================] - 52s 319ms/step - loss: 2.3812e-05 - acc: 1.0000 - val_loss: 0.4645 - val_acc: 0.9375\n",
      "Epoch 32/100\n",
      "163/163 [==============================] - 52s 321ms/step - loss: 1.9834e-05 - acc: 1.0000 - val_loss: 0.4616 - val_acc: 0.9375\n",
      "Epoch 33/100\n",
      "163/163 [==============================] - 53s 324ms/step - loss: 1.6673e-05 - acc: 1.0000 - val_loss: 0.4907 - val_acc: 0.9375\n",
      "Epoch 34/100\n",
      "163/163 [==============================] - 53s 327ms/step - loss: 1.4464e-05 - acc: 1.0000 - val_loss: 0.4815 - val_acc: 0.9375\n",
      "Epoch 35/100\n",
      "163/163 [==============================] - 52s 320ms/step - loss: 1.2297e-05 - acc: 1.0000 - val_loss: 0.4871 - val_acc: 0.9375\n",
      "Epoch 36/100\n",
      "163/163 [==============================] - 53s 328ms/step - loss: 1.0458e-05 - acc: 1.0000 - val_loss: 0.4884 - val_acc: 0.9375\n",
      "Epoch 37/100\n",
      "163/163 [==============================] - 52s 321ms/step - loss: 8.9500e-06 - acc: 1.0000 - val_loss: 0.4919 - val_acc: 0.9375\n",
      "Epoch 38/100\n",
      "163/163 [==============================] - 52s 320ms/step - loss: 7.7196e-06 - acc: 1.0000 - val_loss: 0.4954 - val_acc: 0.9375\n",
      "Epoch 39/100\n",
      "163/163 [==============================] - 56s 347ms/step - loss: 6.3445e-06 - acc: 1.0000 - val_loss: 0.4920 - val_acc: 0.9375\n",
      "Epoch 40/100\n",
      "163/163 [==============================] - 62s 382ms/step - loss: 5.3290e-06 - acc: 1.0000 - val_loss: 0.4931 - val_acc: 0.9375\n",
      "Epoch 41/100\n",
      "163/163 [==============================] - 60s 370ms/step - loss: 4.5277e-06 - acc: 1.0000 - val_loss: 0.4817 - val_acc: 0.9375\n",
      "Epoch 42/100\n",
      "163/163 [==============================] - 60s 367ms/step - loss: 3.9641e-06 - acc: 1.0000 - val_loss: 0.4808 - val_acc: 0.9375\n",
      "Epoch 43/100\n",
      "163/163 [==============================] - 64s 395ms/step - loss: 3.3647e-06 - acc: 1.0000 - val_loss: 0.4939 - val_acc: 0.9375\n",
      "Epoch 44/100\n",
      "163/163 [==============================] - 61s 372ms/step - loss: 2.9015e-06 - acc: 1.0000 - val_loss: 0.4904 - val_acc: 0.9375\n",
      "Epoch 45/100\n",
      "163/163 [==============================] - 62s 378ms/step - loss: 2.5281e-06 - acc: 1.0000 - val_loss: 0.4865 - val_acc: 0.9375\n",
      "Epoch 46/100\n",
      "163/163 [==============================] - 56s 342ms/step - loss: 2.2120e-06 - acc: 1.0000 - val_loss: 0.5000 - val_acc: 0.9375\n",
      "Epoch 47/100\n",
      "163/163 [==============================] - 63s 388ms/step - loss: 1.9201e-06 - acc: 1.0000 - val_loss: 0.4901 - val_acc: 0.9375\n",
      "Epoch 48/100\n",
      "163/163 [==============================] - 56s 341ms/step - loss: 1.6713e-06 - acc: 1.0000 - val_loss: 0.4995 - val_acc: 0.9375\n",
      "Epoch 49/100\n",
      "163/163 [==============================] - 59s 361ms/step - loss: 1.4918e-06 - acc: 1.0000 - val_loss: 0.5033 - val_acc: 0.9375\n",
      "Epoch 50/100\n",
      "163/163 [==============================] - 56s 341ms/step - loss: 1.3296e-06 - acc: 1.0000 - val_loss: 0.5055 - val_acc: 0.9375\n",
      "Epoch 51/100\n",
      "163/163 [==============================] - 58s 357ms/step - loss: 1.1828e-06 - acc: 1.0000 - val_loss: 0.5131 - val_acc: 0.9375\n",
      "Epoch 52/100\n",
      "163/163 [==============================] - 67s 409ms/step - loss: 1.0466e-06 - acc: 1.0000 - val_loss: 0.5356 - val_acc: 0.9375\n",
      "Epoch 53/100\n",
      "163/163 [==============================] - 65s 398ms/step - loss: 9.3821e-07 - acc: 1.0000 - val_loss: 0.5391 - val_acc: 0.9375\n",
      "Epoch 54/100\n",
      "163/163 [==============================] - 71s 436ms/step - loss: 8.3798e-07 - acc: 1.0000 - val_loss: 0.5430 - val_acc: 0.9375\n",
      "Epoch 55/100\n",
      "163/163 [==============================] - 63s 388ms/step - loss: 7.5672e-07 - acc: 1.0000 - val_loss: 0.5484 - val_acc: 0.9375\n",
      "Epoch 56/100\n",
      "163/163 [==============================] - 59s 365ms/step - loss: 6.7541e-07 - acc: 1.0000 - val_loss: 0.5747 - val_acc: 0.9375\n",
      "Epoch 57/100\n",
      "163/163 [==============================] - 59s 359ms/step - loss: 6.0482e-07 - acc: 1.0000 - val_loss: 0.5787 - val_acc: 0.9375\n",
      "Epoch 58/100\n",
      "163/163 [==============================] - 59s 362ms/step - loss: 5.4505e-07 - acc: 1.0000 - val_loss: 0.5822 - val_acc: 0.9375\n",
      "Epoch 59/100\n",
      "163/163 [==============================] - 57s 349ms/step - loss: 4.8071e-07 - acc: 1.0000 - val_loss: 0.5942 - val_acc: 0.9375\n"
     ]
    },
    {
     "name": "stdout",
     "output_type": "stream",
     "text": [
      "Epoch 60/100\n",
      "163/163 [==============================] - 52s 320ms/step - loss: 4.3059e-07 - acc: 1.0000 - val_loss: 0.5912 - val_acc: 0.9375\n",
      "Epoch 61/100\n",
      "163/163 [==============================] - 54s 333ms/step - loss: 3.8732e-07 - acc: 1.0000 - val_loss: 0.6105 - val_acc: 0.9375\n",
      "Epoch 62/100\n",
      "163/163 [==============================] - 56s 344ms/step - loss: 3.4071e-07 - acc: 1.0000 - val_loss: 0.6086 - val_acc: 0.9375\n",
      "Epoch 63/100\n",
      "163/163 [==============================] - 52s 322ms/step - loss: 3.0445e-07 - acc: 1.0000 - val_loss: 0.6163 - val_acc: 0.9375\n",
      "Epoch 64/100\n",
      "163/163 [==============================] - 61s 373ms/step - loss: 2.7362e-07 - acc: 1.0000 - val_loss: 0.6201 - val_acc: 0.9375\n",
      "Epoch 65/100\n",
      "163/163 [==============================] - 67s 413ms/step - loss: 2.5102e-07 - acc: 1.0000 - val_loss: 0.6162 - val_acc: 0.9375\n",
      "Epoch 66/100\n",
      "163/163 [==============================] - 63s 384ms/step - loss: 2.2353e-07 - acc: 1.0000 - val_loss: 0.6126 - val_acc: 0.9375\n",
      "Epoch 67/100\n",
      "163/163 [==============================] - 65s 400ms/step - loss: 2.0212e-07 - acc: 1.0000 - val_loss: 0.6252 - val_acc: 0.9375\n",
      "Epoch 68/100\n",
      "163/163 [==============================] - 62s 379ms/step - loss: 1.8240e-07 - acc: 1.0000 - val_loss: 0.6184 - val_acc: 0.9375\n",
      "Epoch 69/100\n",
      "163/163 [==============================] - 58s 359ms/step - loss: 1.6690e-07 - acc: 1.0000 - val_loss: 0.6101 - val_acc: 0.9375\n",
      "Epoch 70/100\n",
      "163/163 [==============================] - 52s 321ms/step - loss: 1.5428e-07 - acc: 1.0000 - val_loss: 0.6148 - val_acc: 0.9375\n",
      "Epoch 71/100\n",
      "163/163 [==============================] - 65s 401ms/step - loss: 1.3906e-07 - acc: 1.0000 - val_loss: 0.6306 - val_acc: 0.9375\n",
      "Epoch 72/100\n",
      "163/163 [==============================] - 60s 371ms/step - loss: 1.2849e-07 - acc: 1.0000 - val_loss: 0.6224 - val_acc: 0.9375\n",
      "Epoch 73/100\n",
      "163/163 [==============================] - 74s 451ms/step - loss: 1.1759e-07 - acc: 1.0000 - val_loss: 0.6181 - val_acc: 0.9375\n",
      "Epoch 74/100\n",
      "163/163 [==============================] - 57s 348ms/step - loss: 1.0971e-07 - acc: 1.0000 - val_loss: 0.6264 - val_acc: 0.9375\n",
      "Epoch 75/100\n",
      "163/163 [==============================] - 60s 370ms/step - loss: 9.9860e-08 - acc: 1.0000 - val_loss: 0.6308 - val_acc: 0.9375\n",
      "Epoch 76/100\n",
      "163/163 [==============================] - 56s 342ms/step - loss: 9.2704e-08 - acc: 1.0000 - val_loss: 0.6202 - val_acc: 0.9375\n",
      "Epoch 77/100\n",
      "163/163 [==============================] - 52s 319ms/step - loss: 8.5999e-08 - acc: 1.0000 - val_loss: 0.6290 - val_acc: 0.9375\n",
      "Epoch 78/100\n",
      "163/163 [==============================] - 52s 320ms/step - loss: 7.9220e-08 - acc: 1.0000 - val_loss: 0.6359 - val_acc: 0.9375\n",
      "Epoch 79/100\n",
      "163/163 [==============================] - 53s 322ms/step - loss: 7.3372e-08 - acc: 1.0000 - val_loss: 0.6375 - val_acc: 0.9375\n",
      "Epoch 80/100\n",
      "163/163 [==============================] - 52s 320ms/step - loss: 6.7029e-08 - acc: 1.0000 - val_loss: 0.6487 - val_acc: 0.9375\n",
      "Epoch 81/100\n",
      "163/163 [==============================] - 52s 318ms/step - loss: 6.2536e-08 - acc: 1.0000 - val_loss: 0.6391 - val_acc: 0.9375\n",
      "Epoch 82/100\n",
      "163/163 [==============================] - 52s 317ms/step - loss: 5.7891e-08 - acc: 1.0000 - val_loss: 0.6245 - val_acc: 0.9375\n",
      "Epoch 83/100\n",
      "163/163 [==============================] - 52s 318ms/step - loss: 5.3440e-08 - acc: 1.0000 - val_loss: 0.6338 - val_acc: 0.9375\n",
      "Epoch 84/100\n",
      "163/163 [==============================] - 52s 320ms/step - loss: 4.9465e-08 - acc: 1.0000 - val_loss: 0.6393 - val_acc: 0.9375\n",
      "Epoch 85/100\n",
      "163/163 [==============================] - 52s 322ms/step - loss: 4.5751e-08 - acc: 1.0000 - val_loss: 0.6420 - val_acc: 0.9375\n",
      "Epoch 86/100\n",
      "163/163 [==============================] - 57s 351ms/step - loss: 4.2914e-08 - acc: 1.0000 - val_loss: 0.6395 - val_acc: 0.9375\n",
      "Epoch 87/100\n",
      "163/163 [==============================] - 52s 319ms/step - loss: 3.8739e-08 - acc: 1.0000 - val_loss: 0.6449 - val_acc: 0.9375\n",
      "Epoch 88/100\n",
      "163/163 [==============================] - 52s 319ms/step - loss: 3.6310e-08 - acc: 1.0000 - val_loss: 0.6414 - val_acc: 0.9375\n",
      "Epoch 89/100\n",
      "163/163 [==============================] - 52s 320ms/step - loss: 3.3276e-08 - acc: 1.0000 - val_loss: 0.6551 - val_acc: 0.9375\n",
      "Epoch 90/100\n",
      "163/163 [==============================] - 52s 319ms/step - loss: 3.0622e-08 - acc: 1.0000 - val_loss: 0.6615 - val_acc: 0.9375\n",
      "Epoch 91/100\n",
      "163/163 [==============================] - 53s 325ms/step - loss: 2.8496e-08 - acc: 1.0000 - val_loss: 0.6572 - val_acc: 0.9375\n",
      "Epoch 92/100\n",
      "163/163 [==============================] - 59s 364ms/step - loss: 2.6395e-08 - acc: 1.0000 - val_loss: 0.6439 - val_acc: 0.9375\n",
      "Epoch 93/100\n",
      "163/163 [==============================] - 52s 318ms/step - loss: 2.4267e-08 - acc: 1.0000 - val_loss: 0.6407 - val_acc: 0.9375\n",
      "Epoch 94/100\n",
      "163/163 [==============================] - 57s 348ms/step - loss: 2.2399e-08 - acc: 1.0000 - val_loss: 0.6631 - val_acc: 0.9375\n",
      "Epoch 95/100\n",
      "163/163 [==============================] - 60s 370ms/step - loss: 2.0964e-08 - acc: 1.0000 - val_loss: 0.6596 - val_acc: 0.9375\n",
      "Epoch 96/100\n",
      "163/163 [==============================] - 53s 327ms/step - loss: 1.9213e-08 - acc: 1.0000 - val_loss: 0.6505 - val_acc: 0.9375\n",
      "Epoch 97/100\n",
      "163/163 [==============================] - 54s 334ms/step - loss: 1.7744e-08 - acc: 1.0000 - val_loss: 0.6609 - val_acc: 0.9375\n",
      "Epoch 98/100\n",
      "163/163 [==============================] - 53s 324ms/step - loss: 1.6433e-08 - acc: 1.0000 - val_loss: 0.6588 - val_acc: 0.9375\n",
      "Epoch 99/100\n",
      "163/163 [==============================] - 53s 324ms/step - loss: 1.5125e-08 - acc: 1.0000 - val_loss: 0.6687 - val_acc: 0.9375\n",
      "Epoch 100/100\n",
      "163/163 [==============================] - 53s 327ms/step - loss: 1.3867e-08 - acc: 1.0000 - val_loss: 0.6849 - val_acc: 0.9375\n"
     ]
    }
   ],
   "source": [
    "results2 = model2.fit(train_images, train_label_final,\n",
    "                     epochs=100,\n",
    "                     validation_data=(val_images, val_label_final))"
   ]
  },
  {
   "cell_type": "code",
   "execution_count": 50,
   "metadata": {},
   "outputs": [
    {
     "data": {
      "image/png": "[encoded data removed]",
      "text/plain": [
       "<Figure size 432x288 with 1 Axes>"
      ]
     },
     "metadata": {
      "needs_background": "light"
     },
     "output_type": "display_data"
    },
    {
     "data": {
      "image/png": "[encoded data removed]",
      "text/plain": [
       "<Figure size 432x288 with 1 Axes>"
      ]
     },
     "metadata": {
      "needs_background": "light"
     },
     "output_type": "display_data"
    }
   ],
   "source": [
    "visualize_training_results(results2)"
   ]
  },
  {
   "cell_type": "code",
   "execution_count": 51,
   "metadata": {},
   "outputs": [
    {
     "name": "stdout",
     "output_type": "stream",
     "text": [
      "163/163 [==============================] - 13s 78ms/step - loss: 1.3280e-08 - acc: 1.0000\n"
     ]
    },
    {
     "data": {
      "text/plain": [
       "[1.3280446964358816e-08, 1.0]"
      ]
     },
     "execution_count": 51,
     "metadata": {},
     "output_type": "execute_result"
    }
   ],
   "source": [
    "results2_train = model2.evaluate(train_images, train_label_final)\n",
    "results2_train"
   ]
  },
  {
   "cell_type": "code",
   "execution_count": 53,
   "metadata": {},
   "outputs": [
    {
     "name": "stdout",
     "output_type": "stream",
     "text": [
      "20/20 [==============================] - 1s 70ms/step - loss: 6.6331 - acc: 0.7692\n"
     ]
    },
    {
     "data": {
      "text/plain": [
       "[6.633061408996582, 0.7692307829856873]"
      ]
     },
     "execution_count": 53,
     "metadata": {},
     "output_type": "execute_result"
    }
   ],
   "source": [
    "results2_test = model2.evaluate(test_images, test_label_final)\n",
    "results2_test"
   ]
  },
  {
   "cell_type": "code",
   "execution_count": null,
   "metadata": {},
   "outputs": [],
   "source": [
    "#choose best architecture then fix for overfitting with dropout => cnn#2 had higher testing accuracy \n",
    "# add increasing dropout layers to help with overfitting, batch normalization, and early stopping callback "
   ]
  },
  {
   "cell_type": "code",
   "execution_count": 56,
   "metadata": {},
   "outputs": [
    {
     "name": "stdout",
     "output_type": "stream",
     "text": [
      "Model: \"sequential_6\"\n",
      "_________________________________________________________________\n",
      "Layer (type)                 Output Shape              Param #   \n",
      "=================================================================\n",
      "conv2d_22 (Conv2D)           (None, 62, 62, 32)        896       \n",
      "_________________________________________________________________\n",
      "batch_normalization_9 (Batch (None, 62, 62, 32)        128       \n",
      "_________________________________________________________________\n",
      "conv2d_23 (Conv2D)           (None, 60, 60, 32)        9248      \n",
      "_________________________________________________________________\n",
      "batch_normalization_10 (Batc (None, 60, 60, 32)        128       \n",
      "_________________________________________________________________\n",
      "max_pooling2d_11 (MaxPooling (None, 30, 30, 32)        0         \n",
      "_________________________________________________________________\n",
      "dropout_4 (Dropout)          (None, 30, 30, 32)        0         \n",
      "_________________________________________________________________\n",
      "conv2d_24 (Conv2D)           (None, 28, 28, 64)        18496     \n",
      "_________________________________________________________________\n",
      "batch_normalization_11 (Batc (None, 28, 28, 64)        256       \n",
      "_________________________________________________________________\n",
      "conv2d_25 (Conv2D)           (None, 26, 26, 64)        36928     \n",
      "_________________________________________________________________\n",
      "batch_normalization_12 (Batc (None, 26, 26, 64)        256       \n",
      "_________________________________________________________________\n",
      "max_pooling2d_12 (MaxPooling (None, 13, 13, 64)        0         \n",
      "_________________________________________________________________\n",
      "dropout_5 (Dropout)          (None, 13, 13, 64)        0         \n",
      "_________________________________________________________________\n",
      "flatten_4 (Flatten)          (None, 10816)             0         \n",
      "_________________________________________________________________\n",
      "dense_11 (Dense)             (None, 128)               1384576   \n",
      "_________________________________________________________________\n",
      "batch_normalization_13 (Batc (None, 128)               512       \n",
      "_________________________________________________________________\n",
      "dropout_6 (Dropout)          (None, 128)               0         \n",
      "_________________________________________________________________\n",
      "dense_12 (Dense)             (None, 1)                 129       \n",
      "=================================================================\n",
      "Total params: 1,451,553\n",
      "Trainable params: 1,450,913\n",
      "Non-trainable params: 640\n",
      "_________________________________________________________________\n"
     ]
    }
   ],
   "source": [
    "model3 = models.Sequential()\n",
    "model3.add(layers.Conv2D(32, (3, 3), activation='relu', \n",
    "                         input_shape=(64, 64, 3)))\n",
    "model3.add(layers.BatchNormalization())\n",
    "model3.add(layers.Conv2D(32, (3, 3), activation='relu'))\n",
    "model3.add(layers.BatchNormalization())\n",
    "model3.add(layers.MaxPooling2D((2, 2)))\n",
    "model3.add(layers.Dropout(0.2))\n",
    "\n",
    "model3.add(layers.Conv2D(64, (3, 3), activation='relu'))\n",
    "model3.add(layers.BatchNormalization())\n",
    "model3.add(layers.Conv2D(64, (3, 3), activation='relu'))\n",
    "model3.add(layers.BatchNormalization())\n",
    "model3.add(layers.MaxPooling2D((2, 2)))\n",
    "model3.add(layers.Dropout(0.3))\n",
    "\n",
    "model3.add(layers.Flatten())\n",
    "model3.add(layers.Dense(128, activation='relu'))\n",
    "model3.add(layers.BatchNormalization())\n",
    "model3.add(layers.Dropout(0.4))\n",
    "model3.add(layers.Dense(1, activation='sigmoid'))\n",
    "\n",
    "model3.summary()"
   ]
  },
  {
   "cell_type": "code",
   "execution_count": 57,
   "metadata": {},
   "outputs": [],
   "source": [
    "model3.compile(loss='binary_crossentropy', optimizer='adam', metrics=['acc'])"
   ]
  },
  {
   "cell_type": "code",
   "execution_count": 60,
   "metadata": {
    "scrolled": true
   },
   "outputs": [
    {
     "name": "stdout",
     "output_type": "stream",
     "text": [
      "Epoch 1/100\n",
      "163/163 [==============================] - 71s 438ms/step - loss: 0.0457 - acc: 0.9839 - val_loss: 1.3020 - val_acc: 0.5625\n",
      "Epoch 2/100\n",
      "163/163 [==============================] - 71s 434ms/step - loss: 0.0418 - acc: 0.9854 - val_loss: 0.4975 - val_acc: 0.7500\n",
      "Epoch 3/100\n",
      "163/163 [==============================] - 71s 435ms/step - loss: 0.0390 - acc: 0.9870 - val_loss: 1.7676 - val_acc: 0.5625\n",
      "Epoch 4/100\n",
      "163/163 [==============================] - 71s 434ms/step - loss: 0.0440 - acc: 0.9849 - val_loss: 1.7601 - val_acc: 0.6250\n",
      "Epoch 5/100\n",
      "163/163 [==============================] - 71s 437ms/step - loss: 0.0370 - acc: 0.9870 - val_loss: 0.4010 - val_acc: 0.8125\n",
      "Epoch 6/100\n",
      "163/163 [==============================] - 71s 433ms/step - loss: 0.0319 - acc: 0.9885 - val_loss: 1.5422 - val_acc: 0.8125\n",
      "Epoch 7/100\n",
      "163/163 [==============================] - 71s 433ms/step - loss: 0.0295 - acc: 0.9896 - val_loss: 0.1484 - val_acc: 0.8750\n",
      "Epoch 8/100\n",
      "163/163 [==============================] - 82s 501ms/step - loss: 0.0275 - acc: 0.9896 - val_loss: 1.0939 - val_acc: 0.5625\n",
      "Epoch 9/100\n",
      "163/163 [==============================] - 85s 524ms/step - loss: 0.0189 - acc: 0.9935 - val_loss: 1.4843 - val_acc: 0.7500\n",
      "Epoch 10/100\n",
      "163/163 [==============================] - 75s 458ms/step - loss: 0.0210 - acc: 0.9933 - val_loss: 0.4939 - val_acc: 0.7500\n",
      "Epoch 11/100\n",
      "163/163 [==============================] - 71s 436ms/step - loss: 0.0302 - acc: 0.9889 - val_loss: 39.3400 - val_acc: 0.5625\n",
      "Epoch 12/100\n",
      "163/163 [==============================] - 71s 436ms/step - loss: 0.0223 - acc: 0.9916 - val_loss: 1.9197 - val_acc: 0.8125\n",
      "Epoch 13/100\n",
      "163/163 [==============================] - 71s 437ms/step - loss: 0.0395 - acc: 0.9873 - val_loss: 1.6754 - val_acc: 0.5000\n",
      "Epoch 14/100\n",
      "163/163 [==============================] - 71s 434ms/step - loss: 0.0396 - acc: 0.9850 - val_loss: 0.1949 - val_acc: 0.9375\n",
      "Epoch 15/100\n",
      "163/163 [==============================] - 73s 449ms/step - loss: 0.0316 - acc: 0.9904 - val_loss: 0.1056 - val_acc: 0.9375\n",
      "Epoch 16/100\n",
      "163/163 [==============================] - 71s 435ms/step - loss: 0.0160 - acc: 0.9950 - val_loss: 0.9210 - val_acc: 0.6875\n",
      "Epoch 17/100\n",
      "163/163 [==============================] - 71s 435ms/step - loss: 0.0121 - acc: 0.9960 - val_loss: 0.2098 - val_acc: 0.8750\n",
      "Epoch 18/100\n",
      "163/163 [==============================] - 73s 446ms/step - loss: 0.0145 - acc: 0.9944 - val_loss: 2.0607 - val_acc: 0.6875\n",
      "Epoch 19/100\n",
      "163/163 [==============================] - 78s 482ms/step - loss: 0.0419 - acc: 0.9856 - val_loss: 0.7818 - val_acc: 0.6875\n",
      "Epoch 20/100\n",
      "163/163 [==============================] - 81s 496ms/step - loss: 0.0200 - acc: 0.9931 - val_loss: 1.9070 - val_acc: 0.6250\n",
      "Epoch 21/100\n",
      "163/163 [==============================] - 71s 437ms/step - loss: 0.0127 - acc: 0.9960 - val_loss: 0.2169 - val_acc: 0.9375\n",
      "Epoch 22/100\n",
      "163/163 [==============================] - 72s 444ms/step - loss: 0.0169 - acc: 0.9952 - val_loss: 0.0658 - val_acc: 1.0000\n",
      "Epoch 23/100\n",
      "163/163 [==============================] - 73s 448ms/step - loss: 0.0100 - acc: 0.9971 - val_loss: 2.1277 - val_acc: 0.5000\n",
      "Epoch 24/100\n",
      "163/163 [==============================] - 72s 440ms/step - loss: 0.0117 - acc: 0.9969 - val_loss: 0.0650 - val_acc: 0.9375\n",
      "Epoch 25/100\n",
      "163/163 [==============================] - 80s 491ms/step - loss: 0.0087 - acc: 0.9965 - val_loss: 0.0567 - val_acc: 1.0000\n",
      "Epoch 26/100\n",
      "163/163 [==============================] - 72s 440ms/step - loss: 0.0063 - acc: 0.9987 - val_loss: 0.1413 - val_acc: 0.9375\n",
      "Epoch 27/100\n",
      "163/163 [==============================] - 77s 474ms/step - loss: 0.0070 - acc: 0.9977 - val_loss: 0.9800 - val_acc: 0.6250\n",
      "Epoch 28/100\n",
      "163/163 [==============================] - 73s 445ms/step - loss: 0.0243 - acc: 0.9919 - val_loss: 2.5560 - val_acc: 0.5625\n",
      "Epoch 29/100\n",
      "163/163 [==============================] - 72s 439ms/step - loss: 0.0099 - acc: 0.9964 - val_loss: 2.6299 - val_acc: 0.5000\n",
      "Epoch 30/100\n",
      "163/163 [==============================] - 72s 439ms/step - loss: 0.0080 - acc: 0.9975 - val_loss: 0.1092 - val_acc: 0.9375\n",
      "Epoch 31/100\n",
      "163/163 [==============================] - 73s 445ms/step - loss: 0.0101 - acc: 0.9958 - val_loss: 0.1180 - val_acc: 0.9375\n",
      "Epoch 32/100\n",
      "163/163 [==============================] - 73s 450ms/step - loss: 0.0177 - acc: 0.9958 - val_loss: 0.1969 - val_acc: 0.9375\n"
     ]
    }
   ],
   "source": [
    "from keras.callbacks import EarlyStopping\n",
    "callback = EarlyStopping(monitor = 'val_acc', patience=10)\n",
    "\n",
    "results3 = model3.fit(train_images, train_label_final,\n",
    "                     epochs=100, callbacks=callback,\n",
    "                     validation_data=(val_images, val_label_final))"
   ]
  },
  {
   "cell_type": "code",
   "execution_count": 61,
   "metadata": {
    "scrolled": false
   },
   "outputs": [
    {
     "data": {
      "image/png": "[encoded data removed]",
      "text/plain": [
       "<Figure size 432x288 with 1 Axes>"
      ]
     },
     "metadata": {
      "needs_background": "light"
     },
     "output_type": "display_data"
    },
    {
     "data": {
      "image/png": "[encoded data removed]",
      "text/plain": [
       "<Figure size 432x288 with 1 Axes>"
      ]
     },
     "metadata": {
      "needs_background": "light"
     },
     "output_type": "display_data"
    }
   ],
   "source": [
    "visualize_training_results(results3)"
   ]
  },
  {
   "cell_type": "code",
   "execution_count": 62,
   "metadata": {},
   "outputs": [
    {
     "name": "stdout",
     "output_type": "stream",
     "text": [
      "163/163 [==============================] - 20s 121ms/step - loss: 0.0010 - acc: 0.9998\n"
     ]
    },
    {
     "data": {
      "text/plain": [
       "[0.001023292075842619, 0.9998083114624023]"
      ]
     },
     "execution_count": 62,
     "metadata": {},
     "output_type": "execute_result"
    }
   ],
   "source": [
    "results3_train = model3.evaluate(train_images, train_label_final)\n",
    "results3_train"
   ]
  },
  {
   "cell_type": "code",
   "execution_count": 63,
   "metadata": {},
   "outputs": [
    {
     "name": "stdout",
     "output_type": "stream",
     "text": [
      "20/20 [==============================] - 2s 92ms/step - loss: 1.5788 - acc: 0.7788\n"
     ]
    },
    {
     "data": {
      "text/plain": [
       "[1.5787585973739624, 0.7788461446762085]"
      ]
     },
     "execution_count": 63,
     "metadata": {},
     "output_type": "execute_result"
    }
   ],
   "source": [
    "results3_test = model3.evaluate(test_images, test_label_final)\n",
    "results3_test"
   ]
  },
  {
   "cell_type": "code",
   "execution_count": 64,
   "metadata": {},
   "outputs": [],
   "source": [
    "#accuracy inceased 1% but learning is still happening too fast - \n",
    "#need to slow it down - try tweaking learning rate parameter to demonstrate log decay"
   ]
  },
  {
   "cell_type": "code",
   "execution_count": 223,
   "metadata": {},
   "outputs": [],
   "source": [
    "#CNN"
   ]
  },
  {
   "cell_type": "code",
   "execution_count": 33,
   "metadata": {},
   "outputs": [],
   "source": [
    "model = models.Sequential()\n",
    "model.add(layers.Conv2D(32, (3, 3), activation='relu',\n",
    "                        input_shape=(64,64,3)))\n",
    "model.add(layers.MaxPooling2D((2, 2)))\n",
    "model.add(layers.Conv2D(64, (3, 3), activation='relu'))\n",
    "model.add(layers.MaxPooling2D((2, 2)))\n",
    "model.add(layers.Conv2D(128, (3, 3), activation='relu'))\n",
    "model.add(layers.MaxPooling2D((2, 2)))\n",
    "model.add(layers.Conv2D(128, (3, 3), activation='relu'))\n",
    "model.add(layers.MaxPooling2D((2, 2)))\n",
    "model.add(layers.Flatten())\n",
    "model.add(layers.Dense(512, activation='relu'))\n",
    "model.add(layers.Dense(1, activation='sigmoid'))"
   ]
  },
  {
   "cell_type": "code",
   "execution_count": 34,
   "metadata": {},
   "outputs": [],
   "source": [
    "from keras import optimizers\n",
    "\n",
    "model.compile(loss='binary_crossentropy',\n",
    "              optimizer=optimizers.RMSprop(lr=1e-4),\n",
    "              metrics=['acc'])"
   ]
  },
  {
   "cell_type": "code",
   "execution_count": 35,
   "metadata": {},
   "outputs": [
    {
     "name": "stdout",
     "output_type": "stream",
     "text": [
      "Model: \"sequential\"\n",
      "_________________________________________________________________\n",
      "Layer (type)                 Output Shape              Param #   \n",
      "=================================================================\n",
      "conv2d (Conv2D)              (None, 62, 62, 32)        896       \n",
      "_________________________________________________________________\n",
      "max_pooling2d (MaxPooling2D) (None, 31, 31, 32)        0         \n",
      "_________________________________________________________________\n",
      "conv2d_1 (Conv2D)            (None, 29, 29, 64)        18496     \n",
      "_________________________________________________________________\n",
      "max_pooling2d_1 (MaxPooling2 (None, 14, 14, 64)        0         \n",
      "_________________________________________________________________\n",
      "conv2d_2 (Conv2D)            (None, 12, 12, 128)       73856     \n",
      "_________________________________________________________________\n",
      "max_pooling2d_2 (MaxPooling2 (None, 6, 6, 128)         0         \n",
      "_________________________________________________________________\n",
      "conv2d_3 (Conv2D)            (None, 4, 4, 128)         147584    \n",
      "_________________________________________________________________\n",
      "max_pooling2d_3 (MaxPooling2 (None, 2, 2, 128)         0         \n",
      "_________________________________________________________________\n",
      "flatten (Flatten)            (None, 512)               0         \n",
      "_________________________________________________________________\n",
      "dense (Dense)                (None, 512)               262656    \n",
      "_________________________________________________________________\n",
      "dense_1 (Dense)              (None, 1)                 513       \n",
      "=================================================================\n",
      "Total params: 504,001\n",
      "Trainable params: 504,001\n",
      "Non-trainable params: 0\n",
      "_________________________________________________________________\n"
     ]
    }
   ],
   "source": [
    "model.summary()"
   ]
  },
  {
   "cell_type": "code",
   "execution_count": null,
   "metadata": {},
   "outputs": [],
   "source": []
  }
 ],
 "metadata": {
  "kernelspec": {
   "display_name": "Python (learn-env)",
   "language": "python",
   "name": "learn-env"
  },
  "language_info": {
   "codemirror_mode": {
    "name": "ipython",
    "version": 3
   },
   "file_extension": ".py",
   "mimetype": "text/x-python",
   "name": "python",
   "nbconvert_exporter": "python",
   "pygments_lexer": "ipython3",
   "version": "3.8.5"
  }
 },
 "nbformat": 4,
 "nbformat_minor": 4
}
